{
 "cells": [
  {
   "cell_type": "code",
   "execution_count": 1,
   "metadata": {
    "execution": {
     "iopub.execute_input": "2024-08-04T13:50:55.530903Z",
     "iopub.status.busy": "2024-08-04T13:50:55.530733Z",
     "iopub.status.idle": "2024-08-04T13:50:56.147836Z",
     "shell.execute_reply": "2024-08-04T13:50:56.147265Z"
    }
   },
   "outputs": [
    {
     "data": {
      "text/html": [
       "<div>\n",
       "<style scoped>\n",
       "    .dataframe tbody tr th:only-of-type {\n",
       "        vertical-align: middle;\n",
       "    }\n",
       "\n",
       "    .dataframe tbody tr th {\n",
       "        vertical-align: top;\n",
       "    }\n",
       "\n",
       "    .dataframe thead th {\n",
       "        text-align: right;\n",
       "    }\n",
       "</style>\n",
       "<table border=\"1\" class=\"dataframe\">\n",
       "  <thead>\n",
       "    <tr style=\"text-align: right;\">\n",
       "      <th></th>\n",
       "      <th>Date</th>\n",
       "      <th>Amount</th>\n",
       "      <th>Item</th>\n",
       "      <th>Category</th>\n",
       "      <th>Split</th>\n",
       "      <th>Not Me</th>\n",
       "      <th>Unnamed: 6</th>\n",
       "    </tr>\n",
       "  </thead>\n",
       "  <tbody>\n",
       "    <tr>\n",
       "      <th>256</th>\n",
       "      <td>2024-07-27</td>\n",
       "      <td>130</td>\n",
       "      <td>milk+chocos</td>\n",
       "      <td>utility</td>\n",
       "      <td>1</td>\n",
       "      <td>0</td>\n",
       "      <td>NaN</td>\n",
       "    </tr>\n",
       "    <tr>\n",
       "      <th>257</th>\n",
       "      <td>2024-07-28</td>\n",
       "      <td>100</td>\n",
       "      <td>idk</td>\n",
       "      <td>utility</td>\n",
       "      <td>1</td>\n",
       "      <td>0</td>\n",
       "      <td>NaN</td>\n",
       "    </tr>\n",
       "    <tr>\n",
       "      <th>258</th>\n",
       "      <td>2024-07-27</td>\n",
       "      <td>284</td>\n",
       "      <td>ibaco</td>\n",
       "      <td>food</td>\n",
       "      <td>1</td>\n",
       "      <td>0</td>\n",
       "      <td>NaN</td>\n",
       "    </tr>\n",
       "    <tr>\n",
       "      <th>259</th>\n",
       "      <td>2024-07-28</td>\n",
       "      <td>138</td>\n",
       "      <td>milk+chocos</td>\n",
       "      <td>utility</td>\n",
       "      <td>1</td>\n",
       "      <td>0</td>\n",
       "      <td>NaN</td>\n",
       "    </tr>\n",
       "    <tr>\n",
       "      <th>260</th>\n",
       "      <td>2024-07-29</td>\n",
       "      <td>108</td>\n",
       "      <td>milk</td>\n",
       "      <td>utility</td>\n",
       "      <td>1</td>\n",
       "      <td>0</td>\n",
       "      <td>NaN</td>\n",
       "    </tr>\n",
       "    <tr>\n",
       "      <th>261</th>\n",
       "      <td>2024-07-30</td>\n",
       "      <td>153</td>\n",
       "      <td>milk+bread</td>\n",
       "      <td>utility</td>\n",
       "      <td>1</td>\n",
       "      <td>0</td>\n",
       "      <td>NaN</td>\n",
       "    </tr>\n",
       "    <tr>\n",
       "      <th>262</th>\n",
       "      <td>2024-07-30</td>\n",
       "      <td>53</td>\n",
       "      <td>grandige</td>\n",
       "      <td>utility</td>\n",
       "      <td>1</td>\n",
       "      <td>0</td>\n",
       "      <td>NaN</td>\n",
       "    </tr>\n",
       "    <tr>\n",
       "      <th>263</th>\n",
       "      <td>2024-07-30</td>\n",
       "      <td>60</td>\n",
       "      <td>vegetables</td>\n",
       "      <td>utility</td>\n",
       "      <td>1</td>\n",
       "      <td>0</td>\n",
       "      <td>NaN</td>\n",
       "    </tr>\n",
       "    <tr>\n",
       "      <th>264</th>\n",
       "      <td>2024-07-31</td>\n",
       "      <td>140</td>\n",
       "      <td>milk+custard</td>\n",
       "      <td>utility</td>\n",
       "      <td>1</td>\n",
       "      <td>0</td>\n",
       "      <td>NaN</td>\n",
       "    </tr>\n",
       "    <tr>\n",
       "      <th>265</th>\n",
       "      <td>2024-07-31</td>\n",
       "      <td>25</td>\n",
       "      <td>banana</td>\n",
       "      <td>utility</td>\n",
       "      <td>1</td>\n",
       "      <td>0</td>\n",
       "      <td>NaN</td>\n",
       "    </tr>\n",
       "    <tr>\n",
       "      <th>266</th>\n",
       "      <td>2024-07-30</td>\n",
       "      <td>90</td>\n",
       "      <td>vegetables</td>\n",
       "      <td>utility</td>\n",
       "      <td>1</td>\n",
       "      <td>0</td>\n",
       "      <td>NaN</td>\n",
       "    </tr>\n",
       "    <tr>\n",
       "      <th>267</th>\n",
       "      <td>2024-07-29</td>\n",
       "      <td>26</td>\n",
       "      <td>idk</td>\n",
       "      <td>utility</td>\n",
       "      <td>1</td>\n",
       "      <td>0</td>\n",
       "      <td>NaN</td>\n",
       "    </tr>\n",
       "    <tr>\n",
       "      <th>268</th>\n",
       "      <td>2024-08-01</td>\n",
       "      <td>50</td>\n",
       "      <td>vegetables</td>\n",
       "      <td>utility</td>\n",
       "      <td>1</td>\n",
       "      <td>0</td>\n",
       "      <td>NaN</td>\n",
       "    </tr>\n",
       "    <tr>\n",
       "      <th>269</th>\n",
       "      <td>2024-08-01</td>\n",
       "      <td>200</td>\n",
       "      <td>petrol-jupiter</td>\n",
       "      <td>travel</td>\n",
       "      <td>1</td>\n",
       "      <td>0</td>\n",
       "      <td>NaN</td>\n",
       "    </tr>\n",
       "    <tr>\n",
       "      <th>270</th>\n",
       "      <td>2024-08-01</td>\n",
       "      <td>75</td>\n",
       "      <td>milk</td>\n",
       "      <td>utility</td>\n",
       "      <td>1</td>\n",
       "      <td>0</td>\n",
       "      <td>NaN</td>\n",
       "    </tr>\n",
       "    <tr>\n",
       "      <th>271</th>\n",
       "      <td>2024-08-02</td>\n",
       "      <td>150</td>\n",
       "      <td>milk+bread</td>\n",
       "      <td>utility</td>\n",
       "      <td>1</td>\n",
       "      <td>0</td>\n",
       "      <td>NaN</td>\n",
       "    </tr>\n",
       "    <tr>\n",
       "      <th>272</th>\n",
       "      <td>2024-08-02</td>\n",
       "      <td>1525</td>\n",
       "      <td>dandruff-medicine</td>\n",
       "      <td>utility</td>\n",
       "      <td>1</td>\n",
       "      <td>0</td>\n",
       "      <td>NaN</td>\n",
       "    </tr>\n",
       "    <tr>\n",
       "      <th>273</th>\n",
       "      <td>2024-08-02</td>\n",
       "      <td>10</td>\n",
       "      <td>parking</td>\n",
       "      <td>utility</td>\n",
       "      <td>1</td>\n",
       "      <td>0</td>\n",
       "      <td>NaN</td>\n",
       "    </tr>\n",
       "    <tr>\n",
       "      <th>274</th>\n",
       "      <td>2024-08-03</td>\n",
       "      <td>104</td>\n",
       "      <td>milk</td>\n",
       "      <td>utility</td>\n",
       "      <td>1</td>\n",
       "      <td>0</td>\n",
       "      <td>NaN</td>\n",
       "    </tr>\n",
       "    <tr>\n",
       "      <th>275</th>\n",
       "      <td>2024-08-03</td>\n",
       "      <td>250</td>\n",
       "      <td>recharge</td>\n",
       "      <td>utility</td>\n",
       "      <td>1</td>\n",
       "      <td>0</td>\n",
       "      <td>NaN</td>\n",
       "    </tr>\n",
       "    <tr>\n",
       "      <th>276</th>\n",
       "      <td>2024-08-04</td>\n",
       "      <td>15</td>\n",
       "      <td>metro</td>\n",
       "      <td>travel</td>\n",
       "      <td>1</td>\n",
       "      <td>0</td>\n",
       "      <td>NaN</td>\n",
       "    </tr>\n",
       "    <tr>\n",
       "      <th>277</th>\n",
       "      <td>2024-08-04</td>\n",
       "      <td>300</td>\n",
       "      <td>go-karting</td>\n",
       "      <td>me</td>\n",
       "      <td>1</td>\n",
       "      <td>0</td>\n",
       "      <td>NaN</td>\n",
       "    </tr>\n",
       "    <tr>\n",
       "      <th>278</th>\n",
       "      <td>2024-08-04</td>\n",
       "      <td>45</td>\n",
       "      <td>soup</td>\n",
       "      <td>food</td>\n",
       "      <td>1</td>\n",
       "      <td>0</td>\n",
       "      <td>NaN</td>\n",
       "    </tr>\n",
       "    <tr>\n",
       "      <th>279</th>\n",
       "      <td>2024-08-04</td>\n",
       "      <td>50</td>\n",
       "      <td>coconut</td>\n",
       "      <td>food</td>\n",
       "      <td>1</td>\n",
       "      <td>0</td>\n",
       "      <td>NaN</td>\n",
       "    </tr>\n",
       "    <tr>\n",
       "      <th>280</th>\n",
       "      <td>2024-08-04</td>\n",
       "      <td>30</td>\n",
       "      <td>coffee</td>\n",
       "      <td>food</td>\n",
       "      <td>1</td>\n",
       "      <td>0</td>\n",
       "      <td>NaN</td>\n",
       "    </tr>\n",
       "    <tr>\n",
       "      <th>281</th>\n",
       "      <td>2024-08-04</td>\n",
       "      <td>30</td>\n",
       "      <td>odomos</td>\n",
       "      <td>utility</td>\n",
       "      <td>1</td>\n",
       "      <td>0</td>\n",
       "      <td>NaN</td>\n",
       "    </tr>\n",
       "    <tr>\n",
       "      <th>282</th>\n",
       "      <td>2024-08-04</td>\n",
       "      <td>54</td>\n",
       "      <td>milk</td>\n",
       "      <td>utility</td>\n",
       "      <td>1</td>\n",
       "      <td>0</td>\n",
       "      <td>NaN</td>\n",
       "    </tr>\n",
       "  </tbody>\n",
       "</table>\n",
       "</div>"
      ],
      "text/plain": [
       "           Date  Amount               Item Category  Split  Not Me Unnamed: 6\n",
       "256  2024-07-27     130        milk+chocos  utility      1       0        NaN\n",
       "257  2024-07-28     100                idk  utility      1       0        NaN\n",
       "258  2024-07-27     284              ibaco     food      1       0        NaN\n",
       "259  2024-07-28     138        milk+chocos  utility      1       0        NaN\n",
       "260  2024-07-29     108               milk  utility      1       0        NaN\n",
       "261  2024-07-30     153         milk+bread  utility      1       0        NaN\n",
       "262  2024-07-30      53           grandige  utility      1       0        NaN\n",
       "263  2024-07-30      60         vegetables  utility      1       0        NaN\n",
       "264  2024-07-31     140       milk+custard  utility      1       0        NaN\n",
       "265  2024-07-31      25             banana  utility      1       0        NaN\n",
       "266  2024-07-30      90         vegetables  utility      1       0        NaN\n",
       "267  2024-07-29      26                idk  utility      1       0        NaN\n",
       "268  2024-08-01      50         vegetables  utility      1       0        NaN\n",
       "269  2024-08-01     200     petrol-jupiter   travel      1       0        NaN\n",
       "270  2024-08-01      75               milk  utility      1       0        NaN\n",
       "271  2024-08-02     150         milk+bread  utility      1       0        NaN\n",
       "272  2024-08-02    1525  dandruff-medicine  utility      1       0        NaN\n",
       "273  2024-08-02      10            parking  utility      1       0        NaN\n",
       "274  2024-08-03     104               milk  utility      1       0        NaN\n",
       "275  2024-08-03     250           recharge  utility      1       0        NaN\n",
       "276  2024-08-04      15              metro   travel      1       0        NaN\n",
       "277  2024-08-04     300         go-karting       me      1       0        NaN\n",
       "278  2024-08-04      45               soup     food      1       0        NaN\n",
       "279  2024-08-04      50            coconut     food      1       0        NaN\n",
       "280  2024-08-04      30             coffee     food      1       0        NaN\n",
       "281  2024-08-04      30             odomos  utility      1       0        NaN\n",
       "282  2024-08-04      54               milk  utility      1       0        NaN"
      ]
     },
     "execution_count": 1,
     "metadata": {},
     "output_type": "execute_result"
    }
   ],
   "source": [
    "import pandas as pd\n",
    "import numpy as np\n",
    "import matplotlib.pyplot as plt\n",
    "\n",
    "def reader(n):\n",
    "    df = pd.read_csv(\"expenses.csv\")\n",
    "\n",
    "    try:\n",
    "        refill_index = df[df[\"Date\"] == \"Refill\" ].index[-n]\n",
    "        df = df.loc[refill_index + 1 :]\n",
    "    except:\n",
    "        pass\n",
    "    df[\"Amount\"] = df[\"Amount\"].astype(int)\n",
    "    df[\"Split\"] = df[\"Split\"].astype(int)\n",
    "    df[\"Not Me\"] = df[\"Not Me\"].astype(int)\n",
    "    return df\n",
    "\n",
    "df = reader(1)\n",
    "df"
   ]
  },
  {
   "cell_type": "markdown",
   "metadata": {},
   "source": [
    "## total spend"
   ]
  },
  {
   "cell_type": "code",
   "execution_count": 2,
   "metadata": {
    "execution": {
     "iopub.execute_input": "2024-08-04T13:50:56.164464Z",
     "iopub.status.busy": "2024-08-04T13:50:56.164274Z",
     "iopub.status.idle": "2024-08-04T13:50:56.169190Z",
     "shell.execute_reply": "2024-08-04T13:50:56.168676Z"
    }
   },
   "outputs": [
    {
     "data": {
      "text/plain": [
       "4195.0"
      ]
     },
     "execution_count": 2,
     "metadata": {},
     "output_type": "execute_result"
    }
   ],
   "source": [
    "def total_spent(df):\n",
    "    d = df.drop(df[df[\"Not Me\"] == 1].index)\n",
    "    d[\"Amount\"] = d[\"Amount\"] / d[\"Split\"]\n",
    "    return d[\"Amount\"].sum()\n",
    "\n",
    "a = total_spent(df)\n",
    "a"
   ]
  },
  {
   "cell_type": "markdown",
   "metadata": {},
   "source": [
    "# top spends"
   ]
  },
  {
   "cell_type": "code",
   "execution_count": 3,
   "metadata": {
    "execution": {
     "iopub.execute_input": "2024-08-04T13:50:56.171579Z",
     "iopub.status.busy": "2024-08-04T13:50:56.171325Z",
     "iopub.status.idle": "2024-08-04T13:50:56.178130Z",
     "shell.execute_reply": "2024-08-04T13:50:56.177813Z"
    }
   },
   "outputs": [
    {
     "data": {
      "text/html": [
       "<div>\n",
       "<style scoped>\n",
       "    .dataframe tbody tr th:only-of-type {\n",
       "        vertical-align: middle;\n",
       "    }\n",
       "\n",
       "    .dataframe tbody tr th {\n",
       "        vertical-align: top;\n",
       "    }\n",
       "\n",
       "    .dataframe thead th {\n",
       "        text-align: right;\n",
       "    }\n",
       "</style>\n",
       "<table border=\"1\" class=\"dataframe\">\n",
       "  <thead>\n",
       "    <tr style=\"text-align: right;\">\n",
       "      <th></th>\n",
       "      <th>Date</th>\n",
       "      <th>Amount</th>\n",
       "      <th>Item</th>\n",
       "      <th>Category</th>\n",
       "    </tr>\n",
       "  </thead>\n",
       "  <tbody>\n",
       "    <tr>\n",
       "      <th>272</th>\n",
       "      <td>2024-08-02</td>\n",
       "      <td>1525</td>\n",
       "      <td>dandruff-medicine</td>\n",
       "      <td>utility</td>\n",
       "    </tr>\n",
       "    <tr>\n",
       "      <th>277</th>\n",
       "      <td>2024-08-04</td>\n",
       "      <td>300</td>\n",
       "      <td>go-karting</td>\n",
       "      <td>me</td>\n",
       "    </tr>\n",
       "    <tr>\n",
       "      <th>258</th>\n",
       "      <td>2024-07-27</td>\n",
       "      <td>284</td>\n",
       "      <td>ibaco</td>\n",
       "      <td>food</td>\n",
       "    </tr>\n",
       "    <tr>\n",
       "      <th>275</th>\n",
       "      <td>2024-08-03</td>\n",
       "      <td>250</td>\n",
       "      <td>recharge</td>\n",
       "      <td>utility</td>\n",
       "    </tr>\n",
       "    <tr>\n",
       "      <th>269</th>\n",
       "      <td>2024-08-01</td>\n",
       "      <td>200</td>\n",
       "      <td>petrol-jupiter</td>\n",
       "      <td>travel</td>\n",
       "    </tr>\n",
       "    <tr>\n",
       "      <th>261</th>\n",
       "      <td>2024-07-30</td>\n",
       "      <td>153</td>\n",
       "      <td>milk+bread</td>\n",
       "      <td>utility</td>\n",
       "    </tr>\n",
       "    <tr>\n",
       "      <th>271</th>\n",
       "      <td>2024-08-02</td>\n",
       "      <td>150</td>\n",
       "      <td>milk+bread</td>\n",
       "      <td>utility</td>\n",
       "    </tr>\n",
       "    <tr>\n",
       "      <th>264</th>\n",
       "      <td>2024-07-31</td>\n",
       "      <td>140</td>\n",
       "      <td>milk+custard</td>\n",
       "      <td>utility</td>\n",
       "    </tr>\n",
       "    <tr>\n",
       "      <th>259</th>\n",
       "      <td>2024-07-28</td>\n",
       "      <td>138</td>\n",
       "      <td>milk+chocos</td>\n",
       "      <td>utility</td>\n",
       "    </tr>\n",
       "    <tr>\n",
       "      <th>256</th>\n",
       "      <td>2024-07-27</td>\n",
       "      <td>130</td>\n",
       "      <td>milk+chocos</td>\n",
       "      <td>utility</td>\n",
       "    </tr>\n",
       "    <tr>\n",
       "      <th>260</th>\n",
       "      <td>2024-07-29</td>\n",
       "      <td>108</td>\n",
       "      <td>milk</td>\n",
       "      <td>utility</td>\n",
       "    </tr>\n",
       "    <tr>\n",
       "      <th>274</th>\n",
       "      <td>2024-08-03</td>\n",
       "      <td>104</td>\n",
       "      <td>milk</td>\n",
       "      <td>utility</td>\n",
       "    </tr>\n",
       "    <tr>\n",
       "      <th>257</th>\n",
       "      <td>2024-07-28</td>\n",
       "      <td>100</td>\n",
       "      <td>idk</td>\n",
       "      <td>utility</td>\n",
       "    </tr>\n",
       "    <tr>\n",
       "      <th>266</th>\n",
       "      <td>2024-07-30</td>\n",
       "      <td>90</td>\n",
       "      <td>vegetables</td>\n",
       "      <td>utility</td>\n",
       "    </tr>\n",
       "    <tr>\n",
       "      <th>270</th>\n",
       "      <td>2024-08-01</td>\n",
       "      <td>75</td>\n",
       "      <td>milk</td>\n",
       "      <td>utility</td>\n",
       "    </tr>\n",
       "    <tr>\n",
       "      <th>263</th>\n",
       "      <td>2024-07-30</td>\n",
       "      <td>60</td>\n",
       "      <td>vegetables</td>\n",
       "      <td>utility</td>\n",
       "    </tr>\n",
       "    <tr>\n",
       "      <th>282</th>\n",
       "      <td>2024-08-04</td>\n",
       "      <td>54</td>\n",
       "      <td>milk</td>\n",
       "      <td>utility</td>\n",
       "    </tr>\n",
       "    <tr>\n",
       "      <th>262</th>\n",
       "      <td>2024-07-30</td>\n",
       "      <td>53</td>\n",
       "      <td>grandige</td>\n",
       "      <td>utility</td>\n",
       "    </tr>\n",
       "    <tr>\n",
       "      <th>268</th>\n",
       "      <td>2024-08-01</td>\n",
       "      <td>50</td>\n",
       "      <td>vegetables</td>\n",
       "      <td>utility</td>\n",
       "    </tr>\n",
       "    <tr>\n",
       "      <th>279</th>\n",
       "      <td>2024-08-04</td>\n",
       "      <td>50</td>\n",
       "      <td>coconut</td>\n",
       "      <td>food</td>\n",
       "    </tr>\n",
       "    <tr>\n",
       "      <th>278</th>\n",
       "      <td>2024-08-04</td>\n",
       "      <td>45</td>\n",
       "      <td>soup</td>\n",
       "      <td>food</td>\n",
       "    </tr>\n",
       "    <tr>\n",
       "      <th>280</th>\n",
       "      <td>2024-08-04</td>\n",
       "      <td>30</td>\n",
       "      <td>coffee</td>\n",
       "      <td>food</td>\n",
       "    </tr>\n",
       "    <tr>\n",
       "      <th>281</th>\n",
       "      <td>2024-08-04</td>\n",
       "      <td>30</td>\n",
       "      <td>odomos</td>\n",
       "      <td>utility</td>\n",
       "    </tr>\n",
       "    <tr>\n",
       "      <th>267</th>\n",
       "      <td>2024-07-29</td>\n",
       "      <td>26</td>\n",
       "      <td>idk</td>\n",
       "      <td>utility</td>\n",
       "    </tr>\n",
       "    <tr>\n",
       "      <th>265</th>\n",
       "      <td>2024-07-31</td>\n",
       "      <td>25</td>\n",
       "      <td>banana</td>\n",
       "      <td>utility</td>\n",
       "    </tr>\n",
       "    <tr>\n",
       "      <th>276</th>\n",
       "      <td>2024-08-04</td>\n",
       "      <td>15</td>\n",
       "      <td>metro</td>\n",
       "      <td>travel</td>\n",
       "    </tr>\n",
       "    <tr>\n",
       "      <th>273</th>\n",
       "      <td>2024-08-02</td>\n",
       "      <td>10</td>\n",
       "      <td>parking</td>\n",
       "      <td>utility</td>\n",
       "    </tr>\n",
       "  </tbody>\n",
       "</table>\n",
       "</div>"
      ],
      "text/plain": [
       "           Date  Amount               Item Category\n",
       "272  2024-08-02    1525  dandruff-medicine  utility\n",
       "277  2024-08-04     300         go-karting       me\n",
       "258  2024-07-27     284              ibaco     food\n",
       "275  2024-08-03     250           recharge  utility\n",
       "269  2024-08-01     200     petrol-jupiter   travel\n",
       "261  2024-07-30     153         milk+bread  utility\n",
       "271  2024-08-02     150         milk+bread  utility\n",
       "264  2024-07-31     140       milk+custard  utility\n",
       "259  2024-07-28     138        milk+chocos  utility\n",
       "256  2024-07-27     130        milk+chocos  utility\n",
       "260  2024-07-29     108               milk  utility\n",
       "274  2024-08-03     104               milk  utility\n",
       "257  2024-07-28     100                idk  utility\n",
       "266  2024-07-30      90         vegetables  utility\n",
       "270  2024-08-01      75               milk  utility\n",
       "263  2024-07-30      60         vegetables  utility\n",
       "282  2024-08-04      54               milk  utility\n",
       "262  2024-07-30      53           grandige  utility\n",
       "268  2024-08-01      50         vegetables  utility\n",
       "279  2024-08-04      50            coconut     food\n",
       "278  2024-08-04      45               soup     food\n",
       "280  2024-08-04      30             coffee     food\n",
       "281  2024-08-04      30             odomos  utility\n",
       "267  2024-07-29      26                idk  utility\n",
       "265  2024-07-31      25             banana  utility\n",
       "276  2024-08-04      15              metro   travel\n",
       "273  2024-08-02      10            parking  utility"
      ]
     },
     "execution_count": 3,
     "metadata": {},
     "output_type": "execute_result"
    }
   ],
   "source": [
    "df[[\"Date\", \"Amount\", \"Item\", \"Category\"]].sort_values(by=\"Amount\", ascending=False)"
   ]
  },
  {
   "cell_type": "markdown",
   "metadata": {},
   "source": [
    "## categorical"
   ]
  },
  {
   "cell_type": "code",
   "execution_count": 4,
   "metadata": {
    "execution": {
     "iopub.execute_input": "2024-08-04T13:50:56.179470Z",
     "iopub.status.busy": "2024-08-04T13:50:56.179327Z",
     "iopub.status.idle": "2024-08-04T13:50:56.187012Z",
     "shell.execute_reply": "2024-08-04T13:50:56.186658Z"
    }
   },
   "outputs": [
    {
     "data": {
      "text/html": [
       "<div>\n",
       "<style scoped>\n",
       "    .dataframe tbody tr th:only-of-type {\n",
       "        vertical-align: middle;\n",
       "    }\n",
       "\n",
       "    .dataframe tbody tr th {\n",
       "        vertical-align: top;\n",
       "    }\n",
       "\n",
       "    .dataframe thead th {\n",
       "        text-align: right;\n",
       "    }\n",
       "</style>\n",
       "<table border=\"1\" class=\"dataframe\">\n",
       "  <thead>\n",
       "    <tr style=\"text-align: right;\">\n",
       "      <th></th>\n",
       "      <th>Amount</th>\n",
       "    </tr>\n",
       "    <tr>\n",
       "      <th>Category</th>\n",
       "      <th></th>\n",
       "    </tr>\n",
       "  </thead>\n",
       "  <tbody>\n",
       "    <tr>\n",
       "      <th>food</th>\n",
       "      <td>409.0</td>\n",
       "    </tr>\n",
       "    <tr>\n",
       "      <th>me</th>\n",
       "      <td>300.0</td>\n",
       "    </tr>\n",
       "    <tr>\n",
       "      <th>travel</th>\n",
       "      <td>215.0</td>\n",
       "    </tr>\n",
       "    <tr>\n",
       "      <th>utility</th>\n",
       "      <td>3271.0</td>\n",
       "    </tr>\n",
       "  </tbody>\n",
       "</table>\n",
       "</div>"
      ],
      "text/plain": [
       "          Amount\n",
       "Category        \n",
       "food       409.0\n",
       "me         300.0\n",
       "travel     215.0\n",
       "utility   3271.0"
      ]
     },
     "execution_count": 4,
     "metadata": {},
     "output_type": "execute_result"
    }
   ],
   "source": [
    "def categorical(df):\n",
    "    d = df[[\"Category\", \"Amount\", \"Split\", \"Not Me\"]]\n",
    "    d = d.drop(d[d[\"Not Me\"] == 1].index)\n",
    "    d[\"Amount\"] = d[\"Amount\"] / d[\"Split\"]\n",
    "    d.drop([\"Split\", \"Not Me\"], axis=1, inplace=True)\n",
    "    d = d.groupby(\"Category\").sum()\n",
    "    return d\n",
    "\n",
    "d = categorical(df)\n",
    "d"
   ]
  },
  {
   "cell_type": "markdown",
   "metadata": {},
   "source": [
    "## plot"
   ]
  },
  {
   "cell_type": "code",
   "execution_count": 5,
   "metadata": {
    "execution": {
     "iopub.execute_input": "2024-08-04T13:50:56.188594Z",
     "iopub.status.busy": "2024-08-04T13:50:56.188368Z",
     "iopub.status.idle": "2024-08-04T13:50:56.254264Z",
     "shell.execute_reply": "2024-08-04T13:50:56.254012Z"
    }
   },
   "outputs": [
    {
     "data": {
      "image/png": "[encoded data removed]",
      "text/plain": [
       "<Figure size 700x700 with 1 Axes>"
      ]
     },
     "metadata": {},
     "output_type": "display_data"
    }
   ],
   "source": [
    "def absolute_value(val):\n",
    "    return int(round(val / 100.0 * d[\"Amount\"].sum()))\n",
    "\n",
    "plt.figure(figsize=(7, 7))\n",
    "d[\"Amount\"].plot(kind=\"pie\", autopct=absolute_value, legend=True)\n",
    "plt.show()"
   ]
  },
  {
   "cell_type": "markdown",
   "metadata": {},
   "source": [
    "## date wise"
   ]
  },
  {
   "cell_type": "code",
   "execution_count": 6,
   "metadata": {
    "execution": {
     "iopub.execute_input": "2024-08-04T13:50:56.255766Z",
     "iopub.status.busy": "2024-08-04T13:50:56.255667Z",
     "iopub.status.idle": "2024-08-04T13:50:56.259749Z",
     "shell.execute_reply": "2024-08-04T13:50:56.259539Z"
    }
   },
   "outputs": [
    {
     "data": {
      "text/html": [
       "<div>\n",
       "<style scoped>\n",
       "    .dataframe tbody tr th:only-of-type {\n",
       "        vertical-align: middle;\n",
       "    }\n",
       "\n",
       "    .dataframe tbody tr th {\n",
       "        vertical-align: top;\n",
       "    }\n",
       "\n",
       "    .dataframe thead th {\n",
       "        text-align: right;\n",
       "    }\n",
       "</style>\n",
       "<table border=\"1\" class=\"dataframe\">\n",
       "  <thead>\n",
       "    <tr style=\"text-align: right;\">\n",
       "      <th></th>\n",
       "      <th>Amount</th>\n",
       "    </tr>\n",
       "    <tr>\n",
       "      <th>Date</th>\n",
       "      <th></th>\n",
       "    </tr>\n",
       "  </thead>\n",
       "  <tbody>\n",
       "    <tr>\n",
       "      <th>2024-07-27</th>\n",
       "      <td>414</td>\n",
       "    </tr>\n",
       "    <tr>\n",
       "      <th>2024-07-28</th>\n",
       "      <td>238</td>\n",
       "    </tr>\n",
       "    <tr>\n",
       "      <th>2024-07-29</th>\n",
       "      <td>134</td>\n",
       "    </tr>\n",
       "    <tr>\n",
       "      <th>2024-07-30</th>\n",
       "      <td>356</td>\n",
       "    </tr>\n",
       "    <tr>\n",
       "      <th>2024-07-31</th>\n",
       "      <td>165</td>\n",
       "    </tr>\n",
       "    <tr>\n",
       "      <th>2024-08-01</th>\n",
       "      <td>325</td>\n",
       "    </tr>\n",
       "    <tr>\n",
       "      <th>2024-08-02</th>\n",
       "      <td>1685</td>\n",
       "    </tr>\n",
       "    <tr>\n",
       "      <th>2024-08-03</th>\n",
       "      <td>354</td>\n",
       "    </tr>\n",
       "    <tr>\n",
       "      <th>2024-08-04</th>\n",
       "      <td>524</td>\n",
       "    </tr>\n",
       "  </tbody>\n",
       "</table>\n",
       "</div>"
      ],
      "text/plain": [
       "            Amount\n",
       "Date              \n",
       "2024-07-27     414\n",
       "2024-07-28     238\n",
       "2024-07-29     134\n",
       "2024-07-30     356\n",
       "2024-07-31     165\n",
       "2024-08-01     325\n",
       "2024-08-02    1685\n",
       "2024-08-03     354\n",
       "2024-08-04     524"
      ]
     },
     "execution_count": 6,
     "metadata": {},
     "output_type": "execute_result"
    }
   ],
   "source": [
    "d = df[[\"Date\", \"Amount\"]].groupby(\"Date\").sum()\n",
    "d"
   ]
  },
  {
   "cell_type": "markdown",
   "metadata": {},
   "source": [
    "## plot\n"
   ]
  },
  {
   "cell_type": "code",
   "execution_count": 7,
   "metadata": {
    "execution": {
     "iopub.execute_input": "2024-08-04T13:50:56.261104Z",
     "iopub.status.busy": "2024-08-04T13:50:56.261022Z",
     "iopub.status.idle": "2024-08-04T13:50:56.406737Z",
     "shell.execute_reply": "2024-08-04T13:50:56.406504Z"
    }
   },
   "outputs": [
    {
     "data": {
      "text/plain": [
       "<Axes: xlabel='Date'>"
      ]
     },
     "execution_count": 7,
     "metadata": {},
     "output_type": "execute_result"
    },
    {
     "data": {
      "text/plain": [
       "<Figure size 900x900 with 0 Axes>"
      ]
     },
     "metadata": {},
     "output_type": "display_data"
    },
    {
     "data": {
      "image/png": "[encoded data removed]",
      "text/plain": [
       "<Figure size 640x480 with 1 Axes>"
      ]
     },
     "metadata": {},
     "output_type": "display_data"
    },
    {
     "data": {
      "image/png": "[encoded data removed]",
      "text/plain": [
       "<Figure size 640x480 with 1 Axes>"
      ]
     },
     "metadata": {},
     "output_type": "display_data"
    }
   ],
   "source": [
    "plt.figure(figsize=(9, 9))\n",
    "d.plot(kind=\"pie\", y=\"Amount\", autopct=absolute_value, legend=False)\n",
    "d.plot(kind=\"bar\")\n"
   ]
  },
  {
   "cell_type": "markdown",
   "metadata": {},
   "source": [
    "## owed"
   ]
  },
  {
   "cell_type": "code",
   "execution_count": 8,
   "metadata": {
    "execution": {
     "iopub.execute_input": "2024-08-04T13:50:56.408462Z",
     "iopub.status.busy": "2024-08-04T13:50:56.408372Z",
     "iopub.status.idle": "2024-08-04T13:50:56.411809Z",
     "shell.execute_reply": "2024-08-04T13:50:56.411574Z"
    }
   },
   "outputs": [
    {
     "name": "stdout",
     "output_type": "stream",
     "text": [
      "0.0\n"
     ]
    }
   ],
   "source": [
    "d = df[[\"Amount\", \"Split\", \"Not Me\"]]\n",
    "s = d[d[\"Not Me\"] == 1]\n",
    "d = d.drop(s.index)\n",
    "sum1 = s[\"Amount\"].sum()\n",
    "sum2 = (d[\"Amount\"] - (d[\"Amount\"] / d[\"Split\"])).sum()\n",
    "print(sum1 + sum2)"
   ]
  },
  {
   "cell_type": "markdown",
   "metadata": {},
   "source": [
    "## No of refills ago"
   ]
  },
  {
   "cell_type": "code",
   "execution_count": 9,
   "metadata": {
    "execution": {
     "iopub.execute_input": "2024-08-04T13:50:56.413285Z",
     "iopub.status.busy": "2024-08-04T13:50:56.413201Z",
     "iopub.status.idle": "2024-08-04T13:50:56.419703Z",
     "shell.execute_reply": "2024-08-04T13:50:56.419492Z"
    }
   },
   "outputs": [
    {
     "data": {
      "text/html": [
       "<div>\n",
       "<style scoped>\n",
       "    .dataframe tbody tr th:only-of-type {\n",
       "        vertical-align: middle;\n",
       "    }\n",
       "\n",
       "    .dataframe tbody tr th {\n",
       "        vertical-align: top;\n",
       "    }\n",
       "\n",
       "    .dataframe thead th {\n",
       "        text-align: right;\n",
       "    }\n",
       "</style>\n",
       "<table border=\"1\" class=\"dataframe\">\n",
       "  <thead>\n",
       "    <tr style=\"text-align: right;\">\n",
       "      <th></th>\n",
       "      <th>Amount</th>\n",
       "    </tr>\n",
       "    <tr>\n",
       "      <th>Category</th>\n",
       "      <th></th>\n",
       "    </tr>\n",
       "  </thead>\n",
       "  <tbody>\n",
       "    <tr>\n",
       "      <th>food</th>\n",
       "      <td>15.0</td>\n",
       "    </tr>\n",
       "    <tr>\n",
       "      <th>travel</th>\n",
       "      <td>800.0</td>\n",
       "    </tr>\n",
       "    <tr>\n",
       "      <th>utility</th>\n",
       "      <td>5474.0</td>\n",
       "    </tr>\n",
       "  </tbody>\n",
       "</table>\n",
       "</div>"
      ],
      "text/plain": [
       "          Amount\n",
       "Category        \n",
       "food        15.0\n",
       "travel     800.0\n",
       "utility   5474.0"
      ]
     },
     "execution_count": 9,
     "metadata": {},
     "output_type": "execute_result"
    }
   ],
   "source": [
    "def no_of_refills_ago(n):\n",
    "    df = pd.read_csv(\"expenses.csv\")\n",
    "    refill_index = df[df[\"Date\"] == \"Refill\"].index[-(n)]\n",
    "    try:\n",
    "        refill_index2 = df[df[\"Date\"] == \"Refill\"].index[-(n + 1)]\n",
    "    except:\n",
    "        refill_index2 = 0\n",
    "    df = df.loc[refill_index2 + 1: refill_index - 1]\n",
    "    df[\"Amount\"] = df[\"Amount\"].astype(int)\n",
    "    df[\"Split\"] = df[\"Split\"].astype(float)\n",
    "    df[\"Not Me\"] = df[\"Not Me\"].astype(int)\n",
    "    return categorical(df)\n",
    "\n",
    "e = no_of_refills_ago(1)\n",
    "e"
   ]
  },
  {
   "cell_type": "markdown",
   "metadata": {},
   "source": [
    "## common items"
   ]
  },
  {
   "cell_type": "code",
   "execution_count": 10,
   "metadata": {
    "execution": {
     "iopub.execute_input": "2024-08-04T13:50:56.421108Z",
     "iopub.status.busy": "2024-08-04T13:50:56.421031Z",
     "iopub.status.idle": "2024-08-04T13:50:56.426192Z",
     "shell.execute_reply": "2024-08-04T13:50:56.425960Z"
    }
   },
   "outputs": [
    {
     "name": "stdout",
     "output_type": "stream",
     "text": [
      "Item\n",
      "vegetables    27\n",
      "petrol        21\n",
      "milk          20\n",
      "chocolate      8\n",
      "flowers        8\n",
      "              ..\n",
      "roll           1\n",
      "lemon          1\n",
      "barley         1\n",
      "citralka       1\n",
      "odomos         1\n",
      "Name: count, Length: 115, dtype: int64\n"
     ]
    }
   ],
   "source": [
    "import pandas as pd\n",
    "def most_common_item():\n",
    "    df = pd.read_csv(\"expenses.csv\")\n",
    "    a = df[\"Item\"].value_counts()\n",
    "    print(a)\n",
    "most_common_item()"
   ]
  },
  {
   "cell_type": "markdown",
   "metadata": {},
   "source": [
    "# All time - starting sep 2022"
   ]
  },
  {
   "cell_type": "code",
   "execution_count": 11,
   "metadata": {
    "execution": {
     "iopub.execute_input": "2024-08-04T13:50:56.427587Z",
     "iopub.status.busy": "2024-08-04T13:50:56.427506Z",
     "iopub.status.idle": "2024-08-04T13:50:56.431816Z",
     "shell.execute_reply": "2024-08-04T13:50:56.431608Z"
    }
   },
   "outputs": [
    {
     "data": {
      "text/plain": [
       "119114.0"
      ]
     },
     "execution_count": 11,
     "metadata": {},
     "output_type": "execute_result"
    }
   ],
   "source": [
    "import pandas as pd\n",
    "\n",
    "df = pd.read_csv(\"expenses.csv\")\n",
    "df = df.drop(df[df[\"Date\"] == \"Refill\"].index)\n",
    "df[\"Amount\"] = df[\"Amount\"].astype(int)\n",
    "df[\"Split\"] = df[\"Split\"].astype(float)\n",
    "df[\"Not Me\"] = df[\"Not Me\"].astype(int)\n",
    "y = df[df[\"Not Me\"] == 0]\n",
    "x = y[\"Amount\"] / y[\"Split\"]\n",
    "86000 + x.sum()\n"
   ]
  },
  {
   "cell_type": "markdown",
   "metadata": {},
   "source": [
    "# Month Wise"
   ]
  },
  {
   "cell_type": "code",
   "execution_count": 12,
   "metadata": {
    "execution": {
     "iopub.execute_input": "2024-08-04T13:50:56.433249Z",
     "iopub.status.busy": "2024-08-04T13:50:56.433171Z",
     "iopub.status.idle": "2024-08-04T13:50:56.440312Z",
     "shell.execute_reply": "2024-08-04T13:50:56.440103Z"
    }
   },
   "outputs": [
    {
     "data": {
      "text/plain": [
       "Date\n",
       "4    6557.5\n",
       "5    9096.0\n",
       "6    6799.5\n",
       "7    7773.0\n",
       "8    2888.0\n",
       "Name: Amount, dtype: float64"
      ]
     },
     "execution_count": 12,
     "metadata": {},
     "output_type": "execute_result"
    }
   ],
   "source": [
    "import pandas as pd\n",
    "\n",
    "df = pd.read_csv(\"expenses.csv\")\n",
    "df = df.drop(df[df[\"Date\"] == \"Refill\"].index)\n",
    "df[\"Amount\"] = df[\"Amount\"].astype(int)\n",
    "df[\"Split\"] = df[\"Split\"].astype(float)\n",
    "df[\"Not Me\"] = df[\"Not Me\"].astype(int)\n",
    "df = df.drop(df[df[\"Not Me\"] == 1].index)\n",
    "df[\"Amount\"] = df[\"Amount\"] / df[\"Split\"]\n",
    "df[\"Date\"] = pd.to_datetime(df[\"Date\"], format=\"%Y-%m-%d\")\n",
    "s = df.groupby(df[\"Date\"].dt.month)\n",
    "s = s[\"Amount\"].sum()\n",
    "s"
   ]
  },
  {
   "cell_type": "code",
   "execution_count": null,
   "metadata": {},
   "outputs": [],
   "source": []
  }
 ],
 "metadata": {
  "kernelspec": {
   "display_name": "Python 3",
   "language": "python",
   "name": "python3"
  },
  "language_info": {
   "codemirror_mode": {
    "name": "ipython",
    "version": 3
   },
   "file_extension": ".py",
   "mimetype": "text/x-python",
   "name": "python",
   "nbconvert_exporter": "python",
   "pygments_lexer": "ipython3",
   "version": "3.11.4"
  }
 },
 "nbformat": 4,
 "nbformat_minor": 2
}
