{
 "cells": [
  {
   "cell_type": "code",
   "execution_count": 1,
   "metadata": {
    "execution": {
     "iopub.execute_input": "2025-04-10T01:26:15.949272Z",
     "iopub.status.busy": "2025-04-10T01:26:15.948829Z",
     "iopub.status.idle": "2025-04-10T01:26:23.143742Z",
     "shell.execute_reply": "2025-04-10T01:26:23.142800Z"
    }
   },
   "outputs": [
    {
     "data": {
      "text/html": [
       "<div>\n",
       "<style scoped>\n",
       "    .dataframe tbody tr th:only-of-type {\n",
       "        vertical-align: middle;\n",
       "    }\n",
       "\n",
       "    .dataframe tbody tr th {\n",
       "        vertical-align: top;\n",
       "    }\n",
       "\n",
       "    .dataframe thead th {\n",
       "        text-align: right;\n",
       "    }\n",
       "</style>\n",
       "<table border=\"1\" class=\"dataframe\">\n",
       "  <thead>\n",
       "    <tr style=\"text-align: right;\">\n",
       "      <th></th>\n",
       "      <th>Date</th>\n",
       "      <th>Amount</th>\n",
       "      <th>Item</th>\n",
       "      <th>Category</th>\n",
       "      <th>Split</th>\n",
       "      <th>Not Me</th>\n",
       "    </tr>\n",
       "  </thead>\n",
       "  <tbody>\n",
       "    <tr>\n",
       "      <th>535</th>\n",
       "      <td>2025-04-08</td>\n",
       "      <td>200</td>\n",
       "      <td>petrol</td>\n",
       "      <td>travel</td>\n",
       "      <td>2</td>\n",
       "      <td>0</td>\n",
       "    </tr>\n",
       "    <tr>\n",
       "      <th>536</th>\n",
       "      <td>2025-04-08</td>\n",
       "      <td>40</td>\n",
       "      <td>ocean</td>\n",
       "      <td>food</td>\n",
       "      <td>2</td>\n",
       "      <td>0</td>\n",
       "    </tr>\n",
       "    <tr>\n",
       "      <th>537</th>\n",
       "      <td>2025-04-08</td>\n",
       "      <td>20</td>\n",
       "      <td>water</td>\n",
       "      <td>food</td>\n",
       "      <td>2</td>\n",
       "      <td>0</td>\n",
       "    </tr>\n",
       "    <tr>\n",
       "      <th>538</th>\n",
       "      <td>2025-04-08</td>\n",
       "      <td>80</td>\n",
       "      <td>milk</td>\n",
       "      <td>utility</td>\n",
       "      <td>1</td>\n",
       "      <td>0</td>\n",
       "    </tr>\n",
       "    <tr>\n",
       "      <th>539</th>\n",
       "      <td>2025-04-09</td>\n",
       "      <td>46</td>\n",
       "      <td>noodles</td>\n",
       "      <td>food</td>\n",
       "      <td>2</td>\n",
       "      <td>0</td>\n",
       "    </tr>\n",
       "    <tr>\n",
       "      <th>540</th>\n",
       "      <td>2025-04-09</td>\n",
       "      <td>70</td>\n",
       "      <td>dosa</td>\n",
       "      <td>food</td>\n",
       "      <td>2</td>\n",
       "      <td>0</td>\n",
       "    </tr>\n",
       "    <tr>\n",
       "      <th>541</th>\n",
       "      <td>2025-04-09</td>\n",
       "      <td>10</td>\n",
       "      <td>water</td>\n",
       "      <td>food</td>\n",
       "      <td>2</td>\n",
       "      <td>0</td>\n",
       "    </tr>\n",
       "  </tbody>\n",
       "</table>\n",
       "</div>"
      ],
      "text/plain": [
       "           Date  Amount     Item Category  Split  Not Me\n",
       "535  2025-04-08     200   petrol   travel      2       0\n",
       "536  2025-04-08      40    ocean     food      2       0\n",
       "537  2025-04-08      20    water     food      2       0\n",
       "538  2025-04-08      80     milk  utility      1       0\n",
       "539  2025-04-09      46  noodles     food      2       0\n",
       "540  2025-04-09      70     dosa     food      2       0\n",
       "541  2025-04-09      10    water     food      2       0"
      ]
     },
     "execution_count": 1,
     "metadata": {},
     "output_type": "execute_result"
    }
   ],
   "source": [
    "import pandas as pd\n",
    "import numpy as np\n",
    "import matplotlib.pyplot as plt\n",
    "\n",
    "\n",
    "def reader(n):\n",
    "    df = pd.read_csv(\"expenses.csv\")\n",
    "\n",
    "    try:\n",
    "        refill_index = df[df[\"Date\"] == \"Refill\"].index[-n]\n",
    "        df = df.loc[refill_index + 1 :]\n",
    "    except:\n",
    "        pass\n",
    "    df[\"Amount\"] = df[\"Amount\"].astype(int)\n",
    "    df[\"Split\"] = df[\"Split\"].astype(int)\n",
    "    df[\"Not Me\"] = df[\"Not Me\"].astype(int)\n",
    "    return df\n",
    "\n",
    "\n",
    "df = reader(1)\n",
    "df"
   ]
  },
  {
   "cell_type": "markdown",
   "metadata": {},
   "source": [
    "## total spend"
   ]
  },
  {
   "cell_type": "code",
   "execution_count": 2,
   "metadata": {
    "execution": {
     "iopub.execute_input": "2025-04-10T01:26:23.444273Z",
     "iopub.status.busy": "2025-04-10T01:26:23.443703Z",
     "iopub.status.idle": "2025-04-10T01:26:23.453007Z",
     "shell.execute_reply": "2025-04-10T01:26:23.452365Z"
    }
   },
   "outputs": [
    {
     "data": {
      "text/plain": [
       "np.float64(273.0)"
      ]
     },
     "execution_count": 2,
     "metadata": {},
     "output_type": "execute_result"
    }
   ],
   "source": [
    "def total_spent(df):\n",
    "    d = df.drop(df[df[\"Not Me\"] == 1].index)\n",
    "    d[\"Amount\"] = d[\"Amount\"] / d[\"Split\"]\n",
    "    return d[\"Amount\"].sum()\n",
    "\n",
    "\n",
    "a = total_spent(df)\n",
    "a"
   ]
  },
  {
   "cell_type": "markdown",
   "metadata": {},
   "source": [
    "# top spends"
   ]
  },
  {
   "cell_type": "code",
   "execution_count": 3,
   "metadata": {
    "execution": {
     "iopub.execute_input": "2025-04-10T01:26:23.455008Z",
     "iopub.status.busy": "2025-04-10T01:26:23.454637Z",
     "iopub.status.idle": "2025-04-10T01:26:23.558391Z",
     "shell.execute_reply": "2025-04-10T01:26:23.557598Z"
    }
   },
   "outputs": [
    {
     "data": {
      "text/html": [
       "<div>\n",
       "<style scoped>\n",
       "    .dataframe tbody tr th:only-of-type {\n",
       "        vertical-align: middle;\n",
       "    }\n",
       "\n",
       "    .dataframe tbody tr th {\n",
       "        vertical-align: top;\n",
       "    }\n",
       "\n",
       "    .dataframe thead th {\n",
       "        text-align: right;\n",
       "    }\n",
       "</style>\n",
       "<table border=\"1\" class=\"dataframe\">\n",
       "  <thead>\n",
       "    <tr style=\"text-align: right;\">\n",
       "      <th></th>\n",
       "      <th>Date</th>\n",
       "      <th>Amount</th>\n",
       "      <th>Item</th>\n",
       "      <th>Category</th>\n",
       "    </tr>\n",
       "  </thead>\n",
       "  <tbody>\n",
       "    <tr>\n",
       "      <th>535</th>\n",
       "      <td>2025-04-08</td>\n",
       "      <td>100</td>\n",
       "      <td>petrol</td>\n",
       "      <td>travel</td>\n",
       "    </tr>\n",
       "    <tr>\n",
       "      <th>538</th>\n",
       "      <td>2025-04-08</td>\n",
       "      <td>80</td>\n",
       "      <td>milk</td>\n",
       "      <td>utility</td>\n",
       "    </tr>\n",
       "    <tr>\n",
       "      <th>540</th>\n",
       "      <td>2025-04-09</td>\n",
       "      <td>35</td>\n",
       "      <td>dosa</td>\n",
       "      <td>food</td>\n",
       "    </tr>\n",
       "    <tr>\n",
       "      <th>539</th>\n",
       "      <td>2025-04-09</td>\n",
       "      <td>23</td>\n",
       "      <td>noodles</td>\n",
       "      <td>food</td>\n",
       "    </tr>\n",
       "    <tr>\n",
       "      <th>536</th>\n",
       "      <td>2025-04-08</td>\n",
       "      <td>20</td>\n",
       "      <td>ocean</td>\n",
       "      <td>food</td>\n",
       "    </tr>\n",
       "    <tr>\n",
       "      <th>537</th>\n",
       "      <td>2025-04-08</td>\n",
       "      <td>10</td>\n",
       "      <td>water</td>\n",
       "      <td>food</td>\n",
       "    </tr>\n",
       "    <tr>\n",
       "      <th>541</th>\n",
       "      <td>2025-04-09</td>\n",
       "      <td>5</td>\n",
       "      <td>water</td>\n",
       "      <td>food</td>\n",
       "    </tr>\n",
       "  </tbody>\n",
       "</table>\n",
       "</div>"
      ],
      "text/plain": [
       "           Date  Amount     Item Category\n",
       "535  2025-04-08     100   petrol   travel\n",
       "538  2025-04-08      80     milk  utility\n",
       "540  2025-04-09      35     dosa     food\n",
       "539  2025-04-09      23  noodles     food\n",
       "536  2025-04-08      20    ocean     food\n",
       "537  2025-04-08      10    water     food\n",
       "541  2025-04-09       5    water     food"
      ]
     },
     "execution_count": 3,
     "metadata": {},
     "output_type": "execute_result"
    }
   ],
   "source": [
    "a = df[[\"Date\", \"Amount\", \"Item\", \"Category\"]]\n",
    "a.loc[:, \"Amount\"] = a[\"Amount\"] / df[\"Split\"]\n",
    "a.sort_values(by=\"Amount\", ascending=False)"
   ]
  },
  {
   "cell_type": "markdown",
   "metadata": {},
   "source": [
    "## categorical"
   ]
  },
  {
   "cell_type": "code",
   "execution_count": 4,
   "metadata": {
    "execution": {
     "iopub.execute_input": "2025-04-10T01:26:23.643156Z",
     "iopub.status.busy": "2025-04-10T01:26:23.642479Z",
     "iopub.status.idle": "2025-04-10T01:26:23.743601Z",
     "shell.execute_reply": "2025-04-10T01:26:23.742533Z"
    }
   },
   "outputs": [
    {
     "data": {
      "text/html": [
       "<div>\n",
       "<style scoped>\n",
       "    .dataframe tbody tr th:only-of-type {\n",
       "        vertical-align: middle;\n",
       "    }\n",
       "\n",
       "    .dataframe tbody tr th {\n",
       "        vertical-align: top;\n",
       "    }\n",
       "\n",
       "    .dataframe thead th {\n",
       "        text-align: right;\n",
       "    }\n",
       "</style>\n",
       "<table border=\"1\" class=\"dataframe\">\n",
       "  <thead>\n",
       "    <tr style=\"text-align: right;\">\n",
       "      <th></th>\n",
       "      <th>Amount</th>\n",
       "    </tr>\n",
       "    <tr>\n",
       "      <th>Category</th>\n",
       "      <th></th>\n",
       "    </tr>\n",
       "  </thead>\n",
       "  <tbody>\n",
       "    <tr>\n",
       "      <th>food</th>\n",
       "      <td>93.0</td>\n",
       "    </tr>\n",
       "    <tr>\n",
       "      <th>travel</th>\n",
       "      <td>100.0</td>\n",
       "    </tr>\n",
       "    <tr>\n",
       "      <th>utility</th>\n",
       "      <td>80.0</td>\n",
       "    </tr>\n",
       "  </tbody>\n",
       "</table>\n",
       "</div>"
      ],
      "text/plain": [
       "          Amount\n",
       "Category        \n",
       "food        93.0\n",
       "travel     100.0\n",
       "utility     80.0"
      ]
     },
     "execution_count": 4,
     "metadata": {},
     "output_type": "execute_result"
    }
   ],
   "source": [
    "def categorical(df):\n",
    "    d = df[[\"Category\", \"Amount\", \"Split\", \"Not Me\"]]\n",
    "    d = d.drop(d[d[\"Not Me\"] == 1].index)\n",
    "    d[\"Amount\"] = d[\"Amount\"] / d[\"Split\"]\n",
    "    d.drop([\"Split\", \"Not Me\"], axis=1, inplace=True)\n",
    "    d = d.groupby(\"Category\").sum()\n",
    "    return d\n",
    "\n",
    "\n",
    "d = categorical(df)\n",
    "d"
   ]
  },
  {
   "cell_type": "markdown",
   "metadata": {},
   "source": [
    "## plot"
   ]
  },
  {
   "cell_type": "code",
   "execution_count": 5,
   "metadata": {
    "execution": {
     "iopub.execute_input": "2025-04-10T01:26:23.747278Z",
     "iopub.status.busy": "2025-04-10T01:26:23.746947Z",
     "iopub.status.idle": "2025-04-10T01:26:24.542296Z",
     "shell.execute_reply": "2025-04-10T01:26:24.453105Z"
    }
   },
   "outputs": [
    {
     "data": {
      "image/png": "[encoded data removed]",
      "text/plain": [
       "<Figure size 700x700 with 1 Axes>"
      ]
     },
     "metadata": {},
     "output_type": "display_data"
    }
   ],
   "source": [
    "def absolute_value(val):\n",
    "    return int(round(val / 100.0 * d[\"Amount\"].sum()))\n",
    "\n",
    "\n",
    "plt.figure(figsize=(7, 7))\n",
    "d[\"Amount\"].plot(kind=\"pie\", autopct=absolute_value, legend=True)\n",
    "plt.show()"
   ]
  },
  {
   "cell_type": "markdown",
   "metadata": {},
   "source": [
    "## date wise"
   ]
  },
  {
   "cell_type": "code",
   "execution_count": 6,
   "metadata": {
    "execution": {
     "iopub.execute_input": "2025-04-10T01:26:24.545024Z",
     "iopub.status.busy": "2025-04-10T01:26:24.544743Z",
     "iopub.status.idle": "2025-04-10T01:26:24.555176Z",
     "shell.execute_reply": "2025-04-10T01:26:24.554355Z"
    }
   },
   "outputs": [
    {
     "data": {
      "text/html": [
       "<div>\n",
       "<style scoped>\n",
       "    .dataframe tbody tr th:only-of-type {\n",
       "        vertical-align: middle;\n",
       "    }\n",
       "\n",
       "    .dataframe tbody tr th {\n",
       "        vertical-align: top;\n",
       "    }\n",
       "\n",
       "    .dataframe thead th {\n",
       "        text-align: right;\n",
       "    }\n",
       "</style>\n",
       "<table border=\"1\" class=\"dataframe\">\n",
       "  <thead>\n",
       "    <tr style=\"text-align: right;\">\n",
       "      <th></th>\n",
       "      <th>Amount</th>\n",
       "    </tr>\n",
       "    <tr>\n",
       "      <th>Date</th>\n",
       "      <th></th>\n",
       "    </tr>\n",
       "  </thead>\n",
       "  <tbody>\n",
       "    <tr>\n",
       "      <th>2025-04-08</th>\n",
       "      <td>340</td>\n",
       "    </tr>\n",
       "    <tr>\n",
       "      <th>2025-04-09</th>\n",
       "      <td>126</td>\n",
       "    </tr>\n",
       "  </tbody>\n",
       "</table>\n",
       "</div>"
      ],
      "text/plain": [
       "            Amount\n",
       "Date              \n",
       "2025-04-08     340\n",
       "2025-04-09     126"
      ]
     },
     "execution_count": 6,
     "metadata": {},
     "output_type": "execute_result"
    }
   ],
   "source": [
    "d = df[[\"Date\", \"Amount\"]].groupby(\"Date\").sum()\n",
    "d"
   ]
  },
  {
   "cell_type": "markdown",
   "metadata": {},
   "source": [
    "## plot\n"
   ]
  },
  {
   "cell_type": "code",
   "execution_count": 7,
   "metadata": {
    "execution": {
     "iopub.execute_input": "2025-04-10T01:26:24.644271Z",
     "iopub.status.busy": "2025-04-10T01:26:24.643969Z",
     "iopub.status.idle": "2025-04-10T01:26:25.851286Z",
     "shell.execute_reply": "2025-04-10T01:26:25.850432Z"
    }
   },
   "outputs": [
    {
     "data": {
      "text/plain": [
       "<Figure size 900x900 with 0 Axes>"
      ]
     },
     "metadata": {},
     "output_type": "display_data"
    },
    {
     "data": {
      "image/png": "[encoded data removed]",
      "text/plain": [
       "<Figure size 640x480 with 1 Axes>"
      ]
     },
     "metadata": {},
     "output_type": "display_data"
    },
    {
     "data": {
      "image/png": "[encoded data removed]",
      "text/plain": [
       "<Figure size 640x480 with 1 Axes>"
      ]
     },
     "metadata": {},
     "output_type": "display_data"
    }
   ],
   "source": [
    "plt.figure(figsize=(9, 9))\n",
    "try:\n",
    "    d.plot(kind=\"pie\", y=\"Amount\", autopct=absolute_value, legend=False)\n",
    "    d.plot(kind=\"bar\")\n",
    "except:\n",
    "    pass"
   ]
  },
  {
   "cell_type": "markdown",
   "metadata": {},
   "source": [
    "## owed"
   ]
  },
  {
   "cell_type": "code",
   "execution_count": 8,
   "metadata": {
    "execution": {
     "iopub.execute_input": "2025-04-10T01:26:25.941707Z",
     "iopub.status.busy": "2025-04-10T01:26:25.854363Z",
     "iopub.status.idle": "2025-04-10T01:26:25.949255Z",
     "shell.execute_reply": "2025-04-10T01:26:25.948618Z"
    }
   },
   "outputs": [
    {
     "name": "stdout",
     "output_type": "stream",
     "text": [
      "193.0\n"
     ]
    }
   ],
   "source": [
    "d = df[[\"Amount\", \"Split\", \"Not Me\"]]\n",
    "s = d[d[\"Not Me\"] == 1]\n",
    "d = d.drop(s.index)\n",
    "sum1 = s[\"Amount\"].sum()\n",
    "sum2 = (d[\"Amount\"] - (d[\"Amount\"] / d[\"Split\"])).sum()\n",
    "print(sum1 + sum2)"
   ]
  },
  {
   "cell_type": "markdown",
   "metadata": {},
   "source": [
    "## No of refills ago"
   ]
  },
  {
   "cell_type": "code",
   "execution_count": 9,
   "metadata": {
    "execution": {
     "iopub.execute_input": "2025-04-10T01:26:25.951653Z",
     "iopub.status.busy": "2025-04-10T01:26:25.951113Z",
     "iopub.status.idle": "2025-04-10T01:26:26.053336Z",
     "shell.execute_reply": "2025-04-10T01:26:26.052749Z"
    }
   },
   "outputs": [
    {
     "data": {
      "text/html": [
       "<div>\n",
       "<style scoped>\n",
       "    .dataframe tbody tr th:only-of-type {\n",
       "        vertical-align: middle;\n",
       "    }\n",
       "\n",
       "    .dataframe tbody tr th {\n",
       "        vertical-align: top;\n",
       "    }\n",
       "\n",
       "    .dataframe thead th {\n",
       "        text-align: right;\n",
       "    }\n",
       "</style>\n",
       "<table border=\"1\" class=\"dataframe\">\n",
       "  <thead>\n",
       "    <tr style=\"text-align: right;\">\n",
       "      <th></th>\n",
       "      <th>Amount</th>\n",
       "    </tr>\n",
       "    <tr>\n",
       "      <th>Category</th>\n",
       "      <th></th>\n",
       "    </tr>\n",
       "  </thead>\n",
       "  <tbody>\n",
       "    <tr>\n",
       "      <th>food</th>\n",
       "      <td>1682.0</td>\n",
       "    </tr>\n",
       "    <tr>\n",
       "      <th>me</th>\n",
       "      <td>950.0</td>\n",
       "    </tr>\n",
       "    <tr>\n",
       "      <th>travel</th>\n",
       "      <td>600.0</td>\n",
       "    </tr>\n",
       "    <tr>\n",
       "      <th>utility</th>\n",
       "      <td>2511.0</td>\n",
       "    </tr>\n",
       "  </tbody>\n",
       "</table>\n",
       "</div>"
      ],
      "text/plain": [
       "          Amount\n",
       "Category        \n",
       "food      1682.0\n",
       "me         950.0\n",
       "travel     600.0\n",
       "utility   2511.0"
      ]
     },
     "execution_count": 9,
     "metadata": {},
     "output_type": "execute_result"
    }
   ],
   "source": [
    "def no_of_refills_ago(n):\n",
    "    df = pd.read_csv(\"expenses.csv\")\n",
    "    refill_index = df[df[\"Date\"] == \"Refill\"].index[-(n)]\n",
    "    try:\n",
    "        refill_index2 = df[df[\"Date\"] == \"Refill\"].index[-(n + 1)]\n",
    "    except:\n",
    "        refill_index2 = 0\n",
    "    df = df.loc[refill_index2 + 1 : refill_index - 1]\n",
    "    df[\"Amount\"] = df[\"Amount\"].astype(int)\n",
    "    df[\"Split\"] = df[\"Split\"].astype(float)\n",
    "    df[\"Not Me\"] = df[\"Not Me\"].astype(int)\n",
    "    return categorical(df)\n",
    "\n",
    "\n",
    "e = no_of_refills_ago(1)\n",
    "e"
   ]
  },
  {
   "cell_type": "markdown",
   "metadata": {},
   "source": [
    "## common items"
   ]
  },
  {
   "cell_type": "code",
   "execution_count": 10,
   "metadata": {
    "execution": {
     "iopub.execute_input": "2025-04-10T01:26:26.142476Z",
     "iopub.status.busy": "2025-04-10T01:26:26.141960Z",
     "iopub.status.idle": "2025-04-10T01:26:26.150666Z",
     "shell.execute_reply": "2025-04-10T01:26:26.150001Z"
    }
   },
   "outputs": [
    {
     "name": "stdout",
     "output_type": "stream",
     "text": [
      "Item\n",
      "milk          52\n",
      "petrol        36\n",
      "chocolate     33\n",
      "vegetables    28\n",
      "refill        14\n",
      "              ..\n",
      "toothpaste     1\n",
      "at             1\n",
      "corn dog       1\n",
      "gatorade       1\n",
      "ice cream      1\n",
      "Name: count, Length: 178, dtype: int64\n"
     ]
    }
   ],
   "source": [
    "import pandas as pd\n",
    "\n",
    "\n",
    "def most_common_item():\n",
    "    df = pd.read_csv(\"expenses.csv\")\n",
    "    a = df[\"Item\"].value_counts()\n",
    "    print(a)\n",
    "\n",
    "\n",
    "most_common_item()"
   ]
  },
  {
   "cell_type": "markdown",
   "metadata": {},
   "source": [
    "# All time - starting sep 2022"
   ]
  },
  {
   "cell_type": "code",
   "execution_count": 11,
   "metadata": {
    "execution": {
     "iopub.execute_input": "2025-04-10T01:26:26.152641Z",
     "iopub.status.busy": "2025-04-10T01:26:26.152443Z",
     "iopub.status.idle": "2025-04-10T01:26:26.250102Z",
     "shell.execute_reply": "2025-04-10T01:26:26.249451Z"
    }
   },
   "outputs": [
    {
     "data": {
      "text/plain": [
       "np.float64(187163.1666666667)"
      ]
     },
     "execution_count": 11,
     "metadata": {},
     "output_type": "execute_result"
    }
   ],
   "source": [
    "import pandas as pd\n",
    "\n",
    "df = pd.read_csv(\"expenses.csv\")\n",
    "df = df.drop(df[df[\"Date\"] == \"Refill\"].index)\n",
    "df[\"Amount\"] = df[\"Amount\"].astype(int)\n",
    "df[\"Split\"] = df[\"Split\"].astype(float)\n",
    "df[\"Not Me\"] = df[\"Not Me\"].astype(int)\n",
    "y = df[df[\"Not Me\"] == 0]\n",
    "x = y[\"Amount\"] / y[\"Split\"]\n",
    "86000 + x.sum()"
   ]
  },
  {
   "cell_type": "markdown",
   "metadata": {},
   "source": [
    "# Month Wise"
   ]
  },
  {
   "cell_type": "code",
   "execution_count": 12,
   "metadata": {
    "execution": {
     "iopub.execute_input": "2025-04-10T01:26:26.252275Z",
     "iopub.status.busy": "2025-04-10T01:26:26.251821Z",
     "iopub.status.idle": "2025-04-10T01:26:26.450893Z",
     "shell.execute_reply": "2025-04-10T01:26:26.450168Z"
    }
   },
   "outputs": [
    {
     "data": {
      "text/plain": [
       "Date\n",
       "2     23840.000000\n",
       "3     10078.000000\n",
       "4      8463.500000\n",
       "5      9096.000000\n",
       "6      6799.500000\n",
       "7      7773.000000\n",
       "8      9305.166667\n",
       "9      8535.500000\n",
       "11    17272.500000\n",
       "Name: Amount, dtype: float64"
      ]
     },
     "execution_count": 12,
     "metadata": {},
     "output_type": "execute_result"
    }
   ],
   "source": [
    "import pandas as pd\n",
    "\n",
    "df = pd.read_csv(\"expenses.csv\")\n",
    "df = df.drop(df[df[\"Date\"] == \"Refill\"].index)\n",
    "df[\"Amount\"] = df[\"Amount\"].astype(int)\n",
    "df[\"Split\"] = df[\"Split\"].astype(float)\n",
    "df[\"Not Me\"] = df[\"Not Me\"].astype(int)\n",
    "df = df.drop(df[df[\"Not Me\"] == 1].index)\n",
    "df[\"Amount\"] = df[\"Amount\"] / df[\"Split\"]\n",
    "df[\"Date\"] = pd.to_datetime(df[\"Date\"], format=\"%Y-%m-%d\")\n",
    "s = df.groupby(df[\"Date\"].dt.month)\n",
    "s = s[\"Amount\"].sum()\n",
    "s"
   ]
  }
 ],
 "metadata": {
  "kernelspec": {
   "display_name": "torch",
   "language": "python",
   "name": "python3"
  },
  "language_info": {
   "codemirror_mode": {
    "name": "ipython",
    "version": 3
   },
   "file_extension": ".py",
   "mimetype": "text/x-python",
   "name": "python",
   "nbconvert_exporter": "python",
   "pygments_lexer": "ipython3",
   "version": "3.10.16"
  }
 },
 "nbformat": 4,
 "nbformat_minor": 2
}
