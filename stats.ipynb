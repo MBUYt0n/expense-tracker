{
 "cells": [
  {
   "cell_type": "code",
   "execution_count": 1,
   "metadata": {
    "execution": {
     "iopub.execute_input": "2024-07-15T11:43:35.488544Z",
     "iopub.status.busy": "2024-07-15T11:43:35.488438Z",
     "iopub.status.idle": "2024-07-15T11:43:35.788445Z",
     "shell.execute_reply": "2024-07-15T11:43:35.787942Z"
    }
   },
   "outputs": [
    {
     "data": {
      "text/html": [
       "<div>\n",
       "<style scoped>\n",
       "    .dataframe tbody tr th:only-of-type {\n",
       "        vertical-align: middle;\n",
       "    }\n",
       "\n",
       "    .dataframe tbody tr th {\n",
       "        vertical-align: top;\n",
       "    }\n",
       "\n",
       "    .dataframe thead th {\n",
       "        text-align: right;\n",
       "    }\n",
       "</style>\n",
       "<table border=\"1\" class=\"dataframe\">\n",
       "  <thead>\n",
       "    <tr style=\"text-align: right;\">\n",
       "      <th></th>\n",
       "      <th>Date</th>\n",
       "      <th>Amount</th>\n",
       "      <th>Item</th>\n",
       "      <th>Category</th>\n",
       "      <th>Split</th>\n",
       "      <th>Not Me</th>\n",
       "    </tr>\n",
       "  </thead>\n",
       "  <tbody>\n",
       "    <tr>\n",
       "      <th>216</th>\n",
       "      <td>2024-07-06</td>\n",
       "      <td>249</td>\n",
       "      <td>recharge</td>\n",
       "      <td>utility</td>\n",
       "      <td>1</td>\n",
       "      <td>0</td>\n",
       "    </tr>\n",
       "    <tr>\n",
       "      <th>217</th>\n",
       "      <td>2024-07-07</td>\n",
       "      <td>27</td>\n",
       "      <td>curd</td>\n",
       "      <td>utility</td>\n",
       "      <td>1</td>\n",
       "      <td>0</td>\n",
       "    </tr>\n",
       "    <tr>\n",
       "      <th>218</th>\n",
       "      <td>2024-07-08</td>\n",
       "      <td>20</td>\n",
       "      <td>parking</td>\n",
       "      <td>utility</td>\n",
       "      <td>1</td>\n",
       "      <td>0</td>\n",
       "    </tr>\n",
       "    <tr>\n",
       "      <th>219</th>\n",
       "      <td>2024-07-08</td>\n",
       "      <td>98</td>\n",
       "      <td>stationery</td>\n",
       "      <td>utility</td>\n",
       "      <td>1</td>\n",
       "      <td>0</td>\n",
       "    </tr>\n",
       "    <tr>\n",
       "      <th>220</th>\n",
       "      <td>2024-07-09</td>\n",
       "      <td>40</td>\n",
       "      <td>bread</td>\n",
       "      <td>utility</td>\n",
       "      <td>1</td>\n",
       "      <td>0</td>\n",
       "    </tr>\n",
       "    <tr>\n",
       "      <th>221</th>\n",
       "      <td>2024-07-10</td>\n",
       "      <td>90</td>\n",
       "      <td>vegetables</td>\n",
       "      <td>utility</td>\n",
       "      <td>1</td>\n",
       "      <td>0</td>\n",
       "    </tr>\n",
       "    <tr>\n",
       "      <th>222</th>\n",
       "      <td>2024-07-11</td>\n",
       "      <td>1500</td>\n",
       "      <td>basketball-fees</td>\n",
       "      <td>utility</td>\n",
       "      <td>1</td>\n",
       "      <td>0</td>\n",
       "    </tr>\n",
       "    <tr>\n",
       "      <th>223</th>\n",
       "      <td>2024-07-11</td>\n",
       "      <td>60</td>\n",
       "      <td>flower</td>\n",
       "      <td>utility</td>\n",
       "      <td>1</td>\n",
       "      <td>0</td>\n",
       "    </tr>\n",
       "    <tr>\n",
       "      <th>224</th>\n",
       "      <td>2024-07-11</td>\n",
       "      <td>100</td>\n",
       "      <td>petrol-activa</td>\n",
       "      <td>travel</td>\n",
       "      <td>1</td>\n",
       "      <td>0</td>\n",
       "    </tr>\n",
       "    <tr>\n",
       "      <th>225</th>\n",
       "      <td>2024-07-12</td>\n",
       "      <td>226</td>\n",
       "      <td>groceries</td>\n",
       "      <td>utility</td>\n",
       "      <td>1</td>\n",
       "      <td>0</td>\n",
       "    </tr>\n",
       "    <tr>\n",
       "      <th>226</th>\n",
       "      <td>2024-07-13</td>\n",
       "      <td>70</td>\n",
       "      <td>vegetables</td>\n",
       "      <td>utility</td>\n",
       "      <td>1</td>\n",
       "      <td>0</td>\n",
       "    </tr>\n",
       "    <tr>\n",
       "      <th>227</th>\n",
       "      <td>2024-07-13</td>\n",
       "      <td>83</td>\n",
       "      <td>vegetables</td>\n",
       "      <td>utility</td>\n",
       "      <td>1</td>\n",
       "      <td>0</td>\n",
       "    </tr>\n",
       "    <tr>\n",
       "      <th>228</th>\n",
       "      <td>2024-07-13</td>\n",
       "      <td>727</td>\n",
       "      <td>behtar</td>\n",
       "      <td>utility</td>\n",
       "      <td>1</td>\n",
       "      <td>0</td>\n",
       "    </tr>\n",
       "    <tr>\n",
       "      <th>229</th>\n",
       "      <td>2024-07-14</td>\n",
       "      <td>37</td>\n",
       "      <td>vegetables</td>\n",
       "      <td>utility</td>\n",
       "      <td>1</td>\n",
       "      <td>0</td>\n",
       "    </tr>\n",
       "    <tr>\n",
       "      <th>230</th>\n",
       "      <td>2024-07-14</td>\n",
       "      <td>47</td>\n",
       "      <td>mango</td>\n",
       "      <td>utility</td>\n",
       "      <td>1</td>\n",
       "      <td>0</td>\n",
       "    </tr>\n",
       "    <tr>\n",
       "      <th>231</th>\n",
       "      <td>2024-07-14</td>\n",
       "      <td>120</td>\n",
       "      <td>clothes-iron</td>\n",
       "      <td>utility</td>\n",
       "      <td>1</td>\n",
       "      <td>0</td>\n",
       "    </tr>\n",
       "    <tr>\n",
       "      <th>232</th>\n",
       "      <td>2024-07-14</td>\n",
       "      <td>54</td>\n",
       "      <td>milk</td>\n",
       "      <td>utility</td>\n",
       "      <td>1</td>\n",
       "      <td>0</td>\n",
       "    </tr>\n",
       "    <tr>\n",
       "      <th>233</th>\n",
       "      <td>2024-07-10</td>\n",
       "      <td>200</td>\n",
       "      <td>petrol</td>\n",
       "      <td>travel</td>\n",
       "      <td>1</td>\n",
       "      <td>0</td>\n",
       "    </tr>\n",
       "    <tr>\n",
       "      <th>234</th>\n",
       "      <td>2024-07-10</td>\n",
       "      <td>15</td>\n",
       "      <td>chocolate</td>\n",
       "      <td>food</td>\n",
       "      <td>1</td>\n",
       "      <td>0</td>\n",
       "    </tr>\n",
       "  </tbody>\n",
       "</table>\n",
       "</div>"
      ],
      "text/plain": [
       "           Date  Amount             Item Category  Split  Not Me\n",
       "216  2024-07-06     249         recharge  utility      1       0\n",
       "217  2024-07-07      27             curd  utility      1       0\n",
       "218  2024-07-08      20          parking  utility      1       0\n",
       "219  2024-07-08      98       stationery  utility      1       0\n",
       "220  2024-07-09      40            bread  utility      1       0\n",
       "221  2024-07-10      90       vegetables  utility      1       0\n",
       "222  2024-07-11    1500  basketball-fees  utility      1       0\n",
       "223  2024-07-11      60           flower  utility      1       0\n",
       "224  2024-07-11     100    petrol-activa   travel      1       0\n",
       "225  2024-07-12     226        groceries  utility      1       0\n",
       "226  2024-07-13      70       vegetables  utility      1       0\n",
       "227  2024-07-13      83       vegetables  utility      1       0\n",
       "228  2024-07-13     727           behtar  utility      1       0\n",
       "229  2024-07-14      37       vegetables  utility      1       0\n",
       "230  2024-07-14      47            mango  utility      1       0\n",
       "231  2024-07-14     120     clothes-iron  utility      1       0\n",
       "232  2024-07-14      54             milk  utility      1       0\n",
       "233  2024-07-10     200           petrol   travel      1       0\n",
       "234  2024-07-10      15        chocolate     food      1       0"
      ]
     },
     "execution_count": 1,
     "metadata": {},
     "output_type": "execute_result"
    }
   ],
   "source": [
    "import pandas as pd\n",
    "import numpy as np\n",
    "import matplotlib.pyplot as plt\n",
    "\n",
    "def reader(n):\n",
    "    df = pd.read_csv(\"expenses.csv\")\n",
    "\n",
    "    try:\n",
    "        refill_index = df[df[\"Date\"] == \"Refill\" ].index[-n]\n",
    "        df = df.loc[refill_index + 1 :]\n",
    "    except:\n",
    "        pass\n",
    "    df[\"Amount\"] = df[\"Amount\"].astype(int)\n",
    "    df[\"Split\"] = df[\"Split\"].astype(int)\n",
    "    df[\"Not Me\"] = df[\"Not Me\"].astype(int)\n",
    "    return df\n",
    "\n",
    "df = reader(1)\n",
    "df"
   ]
  },
  {
   "cell_type": "markdown",
   "metadata": {},
   "source": [
    "## total spend"
   ]
  },
  {
   "cell_type": "code",
   "execution_count": 2,
   "metadata": {
    "execution": {
     "iopub.execute_input": "2024-07-15T11:43:35.804723Z",
     "iopub.status.busy": "2024-07-15T11:43:35.804611Z",
     "iopub.status.idle": "2024-07-15T11:43:35.808635Z",
     "shell.execute_reply": "2024-07-15T11:43:35.808277Z"
    }
   },
   "outputs": [
    {
     "data": {
      "text/plain": [
       "3763.0"
      ]
     },
     "execution_count": 2,
     "metadata": {},
     "output_type": "execute_result"
    }
   ],
   "source": [
    "def total_spent(df):\n",
    "    d = df.drop(df[df[\"Not Me\"] == 1].index)\n",
    "    d[\"Amount\"] = d[\"Amount\"] / d[\"Split\"]\n",
    "    return d[\"Amount\"].sum()\n",
    "\n",
    "a = total_spent(df)\n",
    "a"
   ]
  },
  {
   "cell_type": "markdown",
   "metadata": {},
   "source": [
    "# top spends"
   ]
  },
  {
   "cell_type": "code",
   "execution_count": 3,
   "metadata": {
    "execution": {
     "iopub.execute_input": "2024-07-15T11:43:35.810228Z",
     "iopub.status.busy": "2024-07-15T11:43:35.810067Z",
     "iopub.status.idle": "2024-07-15T11:43:35.814374Z",
     "shell.execute_reply": "2024-07-15T11:43:35.814187Z"
    }
   },
   "outputs": [
    {
     "data": {
      "text/html": [
       "<div>\n",
       "<style scoped>\n",
       "    .dataframe tbody tr th:only-of-type {\n",
       "        vertical-align: middle;\n",
       "    }\n",
       "\n",
       "    .dataframe tbody tr th {\n",
       "        vertical-align: top;\n",
       "    }\n",
       "\n",
       "    .dataframe thead th {\n",
       "        text-align: right;\n",
       "    }\n",
       "</style>\n",
       "<table border=\"1\" class=\"dataframe\">\n",
       "  <thead>\n",
       "    <tr style=\"text-align: right;\">\n",
       "      <th></th>\n",
       "      <th>Date</th>\n",
       "      <th>Amount</th>\n",
       "      <th>Item</th>\n",
       "      <th>Category</th>\n",
       "    </tr>\n",
       "  </thead>\n",
       "  <tbody>\n",
       "    <tr>\n",
       "      <th>222</th>\n",
       "      <td>2024-07-11</td>\n",
       "      <td>1500</td>\n",
       "      <td>basketball-fees</td>\n",
       "      <td>utility</td>\n",
       "    </tr>\n",
       "    <tr>\n",
       "      <th>228</th>\n",
       "      <td>2024-07-13</td>\n",
       "      <td>727</td>\n",
       "      <td>behtar</td>\n",
       "      <td>utility</td>\n",
       "    </tr>\n",
       "    <tr>\n",
       "      <th>216</th>\n",
       "      <td>2024-07-06</td>\n",
       "      <td>249</td>\n",
       "      <td>recharge</td>\n",
       "      <td>utility</td>\n",
       "    </tr>\n",
       "    <tr>\n",
       "      <th>225</th>\n",
       "      <td>2024-07-12</td>\n",
       "      <td>226</td>\n",
       "      <td>groceries</td>\n",
       "      <td>utility</td>\n",
       "    </tr>\n",
       "    <tr>\n",
       "      <th>233</th>\n",
       "      <td>2024-07-10</td>\n",
       "      <td>200</td>\n",
       "      <td>petrol</td>\n",
       "      <td>travel</td>\n",
       "    </tr>\n",
       "    <tr>\n",
       "      <th>231</th>\n",
       "      <td>2024-07-14</td>\n",
       "      <td>120</td>\n",
       "      <td>clothes-iron</td>\n",
       "      <td>utility</td>\n",
       "    </tr>\n",
       "    <tr>\n",
       "      <th>224</th>\n",
       "      <td>2024-07-11</td>\n",
       "      <td>100</td>\n",
       "      <td>petrol-activa</td>\n",
       "      <td>travel</td>\n",
       "    </tr>\n",
       "    <tr>\n",
       "      <th>219</th>\n",
       "      <td>2024-07-08</td>\n",
       "      <td>98</td>\n",
       "      <td>stationery</td>\n",
       "      <td>utility</td>\n",
       "    </tr>\n",
       "    <tr>\n",
       "      <th>221</th>\n",
       "      <td>2024-07-10</td>\n",
       "      <td>90</td>\n",
       "      <td>vegetables</td>\n",
       "      <td>utility</td>\n",
       "    </tr>\n",
       "    <tr>\n",
       "      <th>227</th>\n",
       "      <td>2024-07-13</td>\n",
       "      <td>83</td>\n",
       "      <td>vegetables</td>\n",
       "      <td>utility</td>\n",
       "    </tr>\n",
       "    <tr>\n",
       "      <th>226</th>\n",
       "      <td>2024-07-13</td>\n",
       "      <td>70</td>\n",
       "      <td>vegetables</td>\n",
       "      <td>utility</td>\n",
       "    </tr>\n",
       "    <tr>\n",
       "      <th>223</th>\n",
       "      <td>2024-07-11</td>\n",
       "      <td>60</td>\n",
       "      <td>flower</td>\n",
       "      <td>utility</td>\n",
       "    </tr>\n",
       "    <tr>\n",
       "      <th>232</th>\n",
       "      <td>2024-07-14</td>\n",
       "      <td>54</td>\n",
       "      <td>milk</td>\n",
       "      <td>utility</td>\n",
       "    </tr>\n",
       "    <tr>\n",
       "      <th>230</th>\n",
       "      <td>2024-07-14</td>\n",
       "      <td>47</td>\n",
       "      <td>mango</td>\n",
       "      <td>utility</td>\n",
       "    </tr>\n",
       "    <tr>\n",
       "      <th>220</th>\n",
       "      <td>2024-07-09</td>\n",
       "      <td>40</td>\n",
       "      <td>bread</td>\n",
       "      <td>utility</td>\n",
       "    </tr>\n",
       "    <tr>\n",
       "      <th>229</th>\n",
       "      <td>2024-07-14</td>\n",
       "      <td>37</td>\n",
       "      <td>vegetables</td>\n",
       "      <td>utility</td>\n",
       "    </tr>\n",
       "    <tr>\n",
       "      <th>217</th>\n",
       "      <td>2024-07-07</td>\n",
       "      <td>27</td>\n",
       "      <td>curd</td>\n",
       "      <td>utility</td>\n",
       "    </tr>\n",
       "    <tr>\n",
       "      <th>218</th>\n",
       "      <td>2024-07-08</td>\n",
       "      <td>20</td>\n",
       "      <td>parking</td>\n",
       "      <td>utility</td>\n",
       "    </tr>\n",
       "    <tr>\n",
       "      <th>234</th>\n",
       "      <td>2024-07-10</td>\n",
       "      <td>15</td>\n",
       "      <td>chocolate</td>\n",
       "      <td>food</td>\n",
       "    </tr>\n",
       "  </tbody>\n",
       "</table>\n",
       "</div>"
      ],
      "text/plain": [
       "           Date  Amount             Item Category\n",
       "222  2024-07-11    1500  basketball-fees  utility\n",
       "228  2024-07-13     727           behtar  utility\n",
       "216  2024-07-06     249         recharge  utility\n",
       "225  2024-07-12     226        groceries  utility\n",
       "233  2024-07-10     200           petrol   travel\n",
       "231  2024-07-14     120     clothes-iron  utility\n",
       "224  2024-07-11     100    petrol-activa   travel\n",
       "219  2024-07-08      98       stationery  utility\n",
       "221  2024-07-10      90       vegetables  utility\n",
       "227  2024-07-13      83       vegetables  utility\n",
       "226  2024-07-13      70       vegetables  utility\n",
       "223  2024-07-11      60           flower  utility\n",
       "232  2024-07-14      54             milk  utility\n",
       "230  2024-07-14      47            mango  utility\n",
       "220  2024-07-09      40            bread  utility\n",
       "229  2024-07-14      37       vegetables  utility\n",
       "217  2024-07-07      27             curd  utility\n",
       "218  2024-07-08      20          parking  utility\n",
       "234  2024-07-10      15        chocolate     food"
      ]
     },
     "execution_count": 3,
     "metadata": {},
     "output_type": "execute_result"
    }
   ],
   "source": [
    "df[[\"Date\", \"Amount\", \"Item\", \"Category\"]].sort_values(by=\"Amount\", ascending=False)"
   ]
  },
  {
   "cell_type": "markdown",
   "metadata": {},
   "source": [
    "## categorical"
   ]
  },
  {
   "cell_type": "code",
   "execution_count": 4,
   "metadata": {
    "execution": {
     "iopub.execute_input": "2024-07-15T11:43:35.815896Z",
     "iopub.status.busy": "2024-07-15T11:43:35.815788Z",
     "iopub.status.idle": "2024-07-15T11:43:35.820606Z",
     "shell.execute_reply": "2024-07-15T11:43:35.820376Z"
    }
   },
   "outputs": [
    {
     "data": {
      "text/html": [
       "<div>\n",
       "<style scoped>\n",
       "    .dataframe tbody tr th:only-of-type {\n",
       "        vertical-align: middle;\n",
       "    }\n",
       "\n",
       "    .dataframe tbody tr th {\n",
       "        vertical-align: top;\n",
       "    }\n",
       "\n",
       "    .dataframe thead th {\n",
       "        text-align: right;\n",
       "    }\n",
       "</style>\n",
       "<table border=\"1\" class=\"dataframe\">\n",
       "  <thead>\n",
       "    <tr style=\"text-align: right;\">\n",
       "      <th></th>\n",
       "      <th>Amount</th>\n",
       "    </tr>\n",
       "    <tr>\n",
       "      <th>Category</th>\n",
       "      <th></th>\n",
       "    </tr>\n",
       "  </thead>\n",
       "  <tbody>\n",
       "    <tr>\n",
       "      <th>food</th>\n",
       "      <td>15.0</td>\n",
       "    </tr>\n",
       "    <tr>\n",
       "      <th>travel</th>\n",
       "      <td>300.0</td>\n",
       "    </tr>\n",
       "    <tr>\n",
       "      <th>utility</th>\n",
       "      <td>3448.0</td>\n",
       "    </tr>\n",
       "  </tbody>\n",
       "</table>\n",
       "</div>"
      ],
      "text/plain": [
       "          Amount\n",
       "Category        \n",
       "food        15.0\n",
       "travel     300.0\n",
       "utility   3448.0"
      ]
     },
     "execution_count": 4,
     "metadata": {},
     "output_type": "execute_result"
    }
   ],
   "source": [
    "def categorical(df):\n",
    "    d = df[[\"Category\", \"Amount\", \"Split\", \"Not Me\"]]\n",
    "    d = d.drop(d[d[\"Not Me\"] == 1].index)\n",
    "    d[\"Amount\"] = d[\"Amount\"] / d[\"Split\"]\n",
    "    d.drop([\"Split\", \"Not Me\"], axis=1, inplace=True)\n",
    "    d = d.groupby(\"Category\").sum()\n",
    "    return d\n",
    "\n",
    "d = categorical(df)\n",
    "d"
   ]
  },
  {
   "cell_type": "markdown",
   "metadata": {},
   "source": [
    "## plot"
   ]
  },
  {
   "cell_type": "code",
   "execution_count": 5,
   "metadata": {
    "execution": {
     "iopub.execute_input": "2024-07-15T11:43:35.822222Z",
     "iopub.status.busy": "2024-07-15T11:43:35.822026Z",
     "iopub.status.idle": "2024-07-15T11:43:35.874322Z",
     "shell.execute_reply": "2024-07-15T11:43:35.873852Z"
    }
   },
   "outputs": [
    {
     "data": {
      "image/png": "[encoded data removed]",
      "text/plain": [
       "<Figure size 700x700 with 1 Axes>"
      ]
     },
     "metadata": {},
     "output_type": "display_data"
    }
   ],
   "source": [
    "def absolute_value(val):\n",
    "    return int(round(val / 100.0 * d[\"Amount\"].sum()))\n",
    "\n",
    "plt.figure(figsize=(7, 7))\n",
    "d[\"Amount\"].plot(kind=\"pie\", autopct=absolute_value, legend=True)\n",
    "plt.show()"
   ]
  },
  {
   "cell_type": "markdown",
   "metadata": {},
   "source": [
    "## date wise"
   ]
  },
  {
   "cell_type": "code",
   "execution_count": 6,
   "metadata": {
    "execution": {
     "iopub.execute_input": "2024-07-15T11:43:35.875904Z",
     "iopub.status.busy": "2024-07-15T11:43:35.875811Z",
     "iopub.status.idle": "2024-07-15T11:43:35.880111Z",
     "shell.execute_reply": "2024-07-15T11:43:35.879788Z"
    }
   },
   "outputs": [
    {
     "data": {
      "text/html": [
       "<div>\n",
       "<style scoped>\n",
       "    .dataframe tbody tr th:only-of-type {\n",
       "        vertical-align: middle;\n",
       "    }\n",
       "\n",
       "    .dataframe tbody tr th {\n",
       "        vertical-align: top;\n",
       "    }\n",
       "\n",
       "    .dataframe thead th {\n",
       "        text-align: right;\n",
       "    }\n",
       "</style>\n",
       "<table border=\"1\" class=\"dataframe\">\n",
       "  <thead>\n",
       "    <tr style=\"text-align: right;\">\n",
       "      <th></th>\n",
       "      <th>Amount</th>\n",
       "    </tr>\n",
       "    <tr>\n",
       "      <th>Date</th>\n",
       "      <th></th>\n",
       "    </tr>\n",
       "  </thead>\n",
       "  <tbody>\n",
       "    <tr>\n",
       "      <th>2024-07-06</th>\n",
       "      <td>249</td>\n",
       "    </tr>\n",
       "    <tr>\n",
       "      <th>2024-07-07</th>\n",
       "      <td>27</td>\n",
       "    </tr>\n",
       "    <tr>\n",
       "      <th>2024-07-08</th>\n",
       "      <td>118</td>\n",
       "    </tr>\n",
       "    <tr>\n",
       "      <th>2024-07-09</th>\n",
       "      <td>40</td>\n",
       "    </tr>\n",
       "    <tr>\n",
       "      <th>2024-07-10</th>\n",
       "      <td>305</td>\n",
       "    </tr>\n",
       "    <tr>\n",
       "      <th>2024-07-11</th>\n",
       "      <td>1660</td>\n",
       "    </tr>\n",
       "    <tr>\n",
       "      <th>2024-07-12</th>\n",
       "      <td>226</td>\n",
       "    </tr>\n",
       "    <tr>\n",
       "      <th>2024-07-13</th>\n",
       "      <td>880</td>\n",
       "    </tr>\n",
       "    <tr>\n",
       "      <th>2024-07-14</th>\n",
       "      <td>258</td>\n",
       "    </tr>\n",
       "  </tbody>\n",
       "</table>\n",
       "</div>"
      ],
      "text/plain": [
       "            Amount\n",
       "Date              \n",
       "2024-07-06     249\n",
       "2024-07-07      27\n",
       "2024-07-08     118\n",
       "2024-07-09      40\n",
       "2024-07-10     305\n",
       "2024-07-11    1660\n",
       "2024-07-12     226\n",
       "2024-07-13     880\n",
       "2024-07-14     258"
      ]
     },
     "execution_count": 6,
     "metadata": {},
     "output_type": "execute_result"
    }
   ],
   "source": [
    "d = df[[\"Date\", \"Amount\"]].groupby(\"Date\").sum()\n",
    "d"
   ]
  },
  {
   "cell_type": "markdown",
   "metadata": {},
   "source": [
    "## plot\n"
   ]
  },
  {
   "cell_type": "code",
   "execution_count": 7,
   "metadata": {
    "execution": {
     "iopub.execute_input": "2024-07-15T11:43:35.881517Z",
     "iopub.status.busy": "2024-07-15T11:43:35.881433Z",
     "iopub.status.idle": "2024-07-15T11:43:36.033988Z",
     "shell.execute_reply": "2024-07-15T11:43:36.033628Z"
    }
   },
   "outputs": [
    {
     "data": {
      "text/plain": [
       "<Axes: xlabel='Date'>"
      ]
     },
     "execution_count": 7,
     "metadata": {},
     "output_type": "execute_result"
    },
    {
     "data": {
      "text/plain": [
       "<Figure size 900x900 with 0 Axes>"
      ]
     },
     "metadata": {},
     "output_type": "display_data"
    },
    {
     "data": {
      "image/png": "[encoded data removed]",
      "text/plain": [
       "<Figure size 640x480 with 1 Axes>"
      ]
     },
     "metadata": {},
     "output_type": "display_data"
    },
    {
     "data": {
      "image/png": "[encoded data removed]",
      "text/plain": [
       "<Figure size 640x480 with 1 Axes>"
      ]
     },
     "metadata": {},
     "output_type": "display_data"
    }
   ],
   "source": [
    "plt.figure(figsize=(9, 9))\n",
    "d.plot(kind=\"pie\", y=\"Amount\", autopct=absolute_value, legend=False)\n",
    "d.plot(kind=\"bar\")\n"
   ]
  },
  {
   "cell_type": "markdown",
   "metadata": {},
   "source": [
    "## owed"
   ]
  },
  {
   "cell_type": "code",
   "execution_count": 8,
   "metadata": {
    "execution": {
     "iopub.execute_input": "2024-07-15T11:43:36.035430Z",
     "iopub.status.busy": "2024-07-15T11:43:36.035296Z",
     "iopub.status.idle": "2024-07-15T11:43:36.038987Z",
     "shell.execute_reply": "2024-07-15T11:43:36.038622Z"
    }
   },
   "outputs": [
    {
     "name": "stdout",
     "output_type": "stream",
     "text": [
      "0.0\n"
     ]
    }
   ],
   "source": [
    "d = df[[\"Amount\", \"Split\", \"Not Me\"]]\n",
    "s = d[d[\"Not Me\"] == 1]\n",
    "d = d.drop(s.index)\n",
    "sum1 = s[\"Amount\"].sum()\n",
    "sum2 = (d[\"Amount\"] - (d[\"Amount\"] / d[\"Split\"])).sum()\n",
    "print(sum1 + sum2)"
   ]
  },
  {
   "cell_type": "markdown",
   "metadata": {},
   "source": [
    "## No of refills ago"
   ]
  },
  {
   "cell_type": "code",
   "execution_count": 9,
   "metadata": {
    "execution": {
     "iopub.execute_input": "2024-07-15T11:43:36.040512Z",
     "iopub.status.busy": "2024-07-15T11:43:36.040215Z",
     "iopub.status.idle": "2024-07-15T11:43:36.050540Z",
     "shell.execute_reply": "2024-07-15T11:43:36.050214Z"
    }
   },
   "outputs": [
    {
     "data": {
      "text/html": [
       "<div>\n",
       "<style scoped>\n",
       "    .dataframe tbody tr th:only-of-type {\n",
       "        vertical-align: middle;\n",
       "    }\n",
       "\n",
       "    .dataframe tbody tr th {\n",
       "        vertical-align: top;\n",
       "    }\n",
       "\n",
       "    .dataframe thead th {\n",
       "        text-align: right;\n",
       "    }\n",
       "</style>\n",
       "<table border=\"1\" class=\"dataframe\">\n",
       "  <thead>\n",
       "    <tr style=\"text-align: right;\">\n",
       "      <th></th>\n",
       "      <th>Amount</th>\n",
       "    </tr>\n",
       "    <tr>\n",
       "      <th>Category</th>\n",
       "      <th></th>\n",
       "    </tr>\n",
       "  </thead>\n",
       "  <tbody>\n",
       "    <tr>\n",
       "      <th>food</th>\n",
       "      <td>1622.5</td>\n",
       "    </tr>\n",
       "    <tr>\n",
       "      <th>travel</th>\n",
       "      <td>900.0</td>\n",
       "    </tr>\n",
       "    <tr>\n",
       "      <th>utility</th>\n",
       "      <td>2632.0</td>\n",
       "    </tr>\n",
       "  </tbody>\n",
       "</table>\n",
       "</div>"
      ],
      "text/plain": [
       "          Amount\n",
       "Category        \n",
       "food      1622.5\n",
       "travel     900.0\n",
       "utility   2632.0"
      ]
     },
     "execution_count": 9,
     "metadata": {},
     "output_type": "execute_result"
    }
   ],
   "source": [
    "def no_of_refills_ago(n):\n",
    "    df = pd.read_csv(\"expenses.csv\")\n",
    "    refill_index = df[df[\"Date\"] == \"Refill\"].index[-(n)]\n",
    "    try:\n",
    "        refill_index2 = df[df[\"Date\"] == \"Refill\"].index[-(n + 1)]\n",
    "    except:\n",
    "        refill_index2 = 0\n",
    "    df = df.loc[refill_index2 + 1: refill_index - 1]\n",
    "    df[\"Amount\"] = df[\"Amount\"].astype(int)\n",
    "    df[\"Split\"] = df[\"Split\"].astype(float)\n",
    "    df[\"Not Me\"] = df[\"Not Me\"].astype(int)\n",
    "    return categorical(df)\n",
    "\n",
    "e = no_of_refills_ago(1)\n",
    "e"
   ]
  },
  {
   "cell_type": "markdown",
   "metadata": {},
   "source": [
    "## common items"
   ]
  },
  {
   "cell_type": "code",
   "execution_count": 10,
   "metadata": {
    "execution": {
     "iopub.execute_input": "2024-07-15T11:43:36.051947Z",
     "iopub.status.busy": "2024-07-15T11:43:36.051687Z",
     "iopub.status.idle": "2024-07-15T11:43:36.055612Z",
     "shell.execute_reply": "2024-07-15T11:43:36.055284Z"
    }
   },
   "outputs": [
    {
     "name": "stdout",
     "output_type": "stream",
     "text": [
      "Item\n",
      "petrol          22\n",
      "vegetables      20\n",
      "milk            13\n",
      "chocolate        8\n",
      "honey-chilli     7\n",
      "                ..\n",
      "vada-pav         1\n",
      "cane-o-la        1\n",
      "tomato           1\n",
      "book             1\n",
      "clothes-iron     1\n",
      "Name: count, Length: 100, dtype: int64\n"
     ]
    }
   ],
   "source": [
    "import pandas as pd\n",
    "def most_common_item():\n",
    "    df = pd.read_csv(\"expenses.csv\")\n",
    "    a = df[\"Item\"].value_counts()\n",
    "    print(a)\n",
    "most_common_item()"
   ]
  },
  {
   "cell_type": "markdown",
   "metadata": {},
   "source": [
    "# All time - starting sep 2022"
   ]
  },
  {
   "cell_type": "code",
   "execution_count": 11,
   "metadata": {
    "execution": {
     "iopub.execute_input": "2024-07-15T11:43:36.056737Z",
     "iopub.status.busy": "2024-07-15T11:43:36.056626Z",
     "iopub.status.idle": "2024-07-15T11:43:36.061587Z",
     "shell.execute_reply": "2024-07-15T11:43:36.061248Z"
    }
   },
   "outputs": [
    {
     "data": {
      "text/plain": [
       "112393.0"
      ]
     },
     "execution_count": 11,
     "metadata": {},
     "output_type": "execute_result"
    }
   ],
   "source": [
    "import pandas as pd\n",
    "\n",
    "df = pd.read_csv(\"expenses.csv\")\n",
    "df = df.drop(df[df[\"Date\"] == \"Refill\"].index)\n",
    "df[\"Amount\"] = df[\"Amount\"].astype(int)\n",
    "df[\"Split\"] = df[\"Split\"].astype(float)\n",
    "df[\"Not Me\"] = df[\"Not Me\"].astype(int)\n",
    "y = df[df[\"Not Me\"] == 0]\n",
    "x = y[\"Amount\"] / y[\"Split\"]\n",
    "86000 + x.sum()\n"
   ]
  },
  {
   "cell_type": "markdown",
   "metadata": {},
   "source": [
    "# Month Wise"
   ]
  },
  {
   "cell_type": "code",
   "execution_count": 12,
   "metadata": {
    "execution": {
     "iopub.execute_input": "2024-07-15T11:43:36.063156Z",
     "iopub.status.busy": "2024-07-15T11:43:36.063035Z",
     "iopub.status.idle": "2024-07-15T11:43:36.070196Z",
     "shell.execute_reply": "2024-07-15T11:43:36.069945Z"
    }
   },
   "outputs": [
    {
     "data": {
      "text/plain": [
       "Date\n",
       "4    6557.5\n",
       "5    9096.0\n",
       "6    6799.5\n",
       "7    3940.0\n",
       "Name: Amount, dtype: float64"
      ]
     },
     "execution_count": 12,
     "metadata": {},
     "output_type": "execute_result"
    }
   ],
   "source": [
    "import pandas as pd\n",
    "\n",
    "df = pd.read_csv(\"expenses.csv\")\n",
    "df = df.drop(df[df[\"Date\"] == \"Refill\"].index)\n",
    "df[\"Amount\"] = df[\"Amount\"].astype(int)\n",
    "df[\"Split\"] = df[\"Split\"].astype(float)\n",
    "df[\"Not Me\"] = df[\"Not Me\"].astype(int)\n",
    "df = df.drop(df[df[\"Not Me\"] == 1].index)\n",
    "df[\"Amount\"] = df[\"Amount\"] / df[\"Split\"]\n",
    "df[\"Date\"] = pd.to_datetime(df[\"Date\"], format=\"%Y-%m-%d\")\n",
    "s = df.groupby(df[\"Date\"].dt.month)\n",
    "s = s[\"Amount\"].sum()\n",
    "s"
   ]
  },
  {
   "cell_type": "code",
   "execution_count": null,
   "metadata": {},
   "outputs": [],
   "source": []
  }
 ],
 "metadata": {
  "kernelspec": {
   "display_name": "Python 3",
   "language": "python",
   "name": "python3"
  },
  "language_info": {
   "codemirror_mode": {
    "name": "ipython",
    "version": 3
   },
   "file_extension": ".py",
   "mimetype": "text/x-python",
   "name": "python",
   "nbconvert_exporter": "python",
   "pygments_lexer": "ipython3",
   "version": "3.11.4"
  }
 },
 "nbformat": 4,
 "nbformat_minor": 2
}
