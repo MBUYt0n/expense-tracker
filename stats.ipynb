{
 "cells": [
  {
   "cell_type": "code",
   "execution_count": 1,
   "metadata": {
    "execution": {
     "iopub.execute_input": "2024-11-16T06:23:08.756430Z",
     "iopub.status.busy": "2024-11-16T06:23:08.756135Z",
     "iopub.status.idle": "2024-11-16T06:23:09.041983Z",
     "shell.execute_reply": "2024-11-16T06:23:09.041618Z"
    }
   },
   "outputs": [
    {
     "data": {
      "text/html": [
       "<div>\n",
       "<style scoped>\n",
       "    .dataframe tbody tr th:only-of-type {\n",
       "        vertical-align: middle;\n",
       "    }\n",
       "\n",
       "    .dataframe tbody tr th {\n",
       "        vertical-align: top;\n",
       "    }\n",
       "\n",
       "    .dataframe thead th {\n",
       "        text-align: right;\n",
       "    }\n",
       "</style>\n",
       "<table border=\"1\" class=\"dataframe\">\n",
       "  <thead>\n",
       "    <tr style=\"text-align: right;\">\n",
       "      <th></th>\n",
       "      <th>Date</th>\n",
       "      <th>Amount</th>\n",
       "      <th>Item</th>\n",
       "      <th>Category</th>\n",
       "      <th>Split</th>\n",
       "      <th>Not Me</th>\n",
       "    </tr>\n",
       "  </thead>\n",
       "  <tbody>\n",
       "    <tr>\n",
       "      <th>423</th>\n",
       "      <td>2024-11-14</td>\n",
       "      <td>200</td>\n",
       "      <td>petrol-jupiter</td>\n",
       "      <td>travel</td>\n",
       "      <td>1</td>\n",
       "      <td>0</td>\n",
       "    </tr>\n",
       "    <tr>\n",
       "      <th>424</th>\n",
       "      <td>2024-11-15</td>\n",
       "      <td>60</td>\n",
       "      <td>dosa</td>\n",
       "      <td>food</td>\n",
       "      <td>2</td>\n",
       "      <td>0</td>\n",
       "    </tr>\n",
       "    <tr>\n",
       "      <th>425</th>\n",
       "      <td>2024-11-15</td>\n",
       "      <td>300</td>\n",
       "      <td>bowling</td>\n",
       "      <td>me</td>\n",
       "      <td>1</td>\n",
       "      <td>0</td>\n",
       "    </tr>\n",
       "    <tr>\n",
       "      <th>426</th>\n",
       "      <td>2024-11-15</td>\n",
       "      <td>300</td>\n",
       "      <td>bowling</td>\n",
       "      <td>me</td>\n",
       "      <td>1</td>\n",
       "      <td>0</td>\n",
       "    </tr>\n",
       "    <tr>\n",
       "      <th>427</th>\n",
       "      <td>2024-11-15</td>\n",
       "      <td>300</td>\n",
       "      <td>bowlnig</td>\n",
       "      <td>me</td>\n",
       "      <td>1</td>\n",
       "      <td>0</td>\n",
       "    </tr>\n",
       "    <tr>\n",
       "      <th>428</th>\n",
       "      <td>2024-11-15</td>\n",
       "      <td>300</td>\n",
       "      <td>bowlnig</td>\n",
       "      <td>ME</td>\n",
       "      <td>1</td>\n",
       "      <td>0</td>\n",
       "    </tr>\n",
       "  </tbody>\n",
       "</table>\n",
       "</div>"
      ],
      "text/plain": [
       "           Date  Amount            Item Category  Split  Not Me\n",
       "423  2024-11-14     200  petrol-jupiter   travel      1       0\n",
       "424  2024-11-15      60            dosa     food      2       0\n",
       "425  2024-11-15     300         bowling       me      1       0\n",
       "426  2024-11-15     300         bowling       me      1       0\n",
       "427  2024-11-15     300         bowlnig       me      1       0\n",
       "428  2024-11-15     300         bowlnig       ME      1       0"
      ]
     },
     "execution_count": 1,
     "metadata": {},
     "output_type": "execute_result"
    }
   ],
   "source": [
    "import pandas as pd\n",
    "import numpy as np\n",
    "import matplotlib.pyplot as plt\n",
    "\n",
    "\n",
    "def reader(n):\n",
    "    df = pd.read_csv(\"expenses.csv\")\n",
    "\n",
    "    try:\n",
    "        refill_index = df[df[\"Date\"] == \"Refill\"].index[-n]\n",
    "        df = df.loc[refill_index + 1 :]\n",
    "    except:\n",
    "        pass\n",
    "    df[\"Amount\"] = df[\"Amount\"].astype(int)\n",
    "    df[\"Split\"] = df[\"Split\"].astype(int)\n",
    "    df[\"Not Me\"] = df[\"Not Me\"].astype(int)\n",
    "    return df\n",
    "\n",
    "\n",
    "df = reader(1)\n",
    "df"
   ]
  },
  {
   "cell_type": "markdown",
   "metadata": {},
   "source": [
    "## total spend"
   ]
  },
  {
   "cell_type": "code",
   "execution_count": 2,
   "metadata": {
    "execution": {
     "iopub.execute_input": "2024-11-16T06:23:09.043457Z",
     "iopub.status.busy": "2024-11-16T06:23:09.043360Z",
     "iopub.status.idle": "2024-11-16T06:23:09.046660Z",
     "shell.execute_reply": "2024-11-16T06:23:09.046419Z"
    }
   },
   "outputs": [
    {
     "data": {
      "text/plain": [
       "1430.0"
      ]
     },
     "execution_count": 2,
     "metadata": {},
     "output_type": "execute_result"
    }
   ],
   "source": [
    "def total_spent(df):\n",
    "    d = df.drop(df[df[\"Not Me\"] == 1].index)\n",
    "    d[\"Amount\"] = d[\"Amount\"] / d[\"Split\"]\n",
    "    return d[\"Amount\"].sum()\n",
    "\n",
    "\n",
    "a = total_spent(df)\n",
    "a"
   ]
  },
  {
   "cell_type": "markdown",
   "metadata": {},
   "source": [
    "# top spends"
   ]
  },
  {
   "cell_type": "code",
   "execution_count": 3,
   "metadata": {
    "execution": {
     "iopub.execute_input": "2024-11-16T06:23:09.048137Z",
     "iopub.status.busy": "2024-11-16T06:23:09.047977Z",
     "iopub.status.idle": "2024-11-16T06:23:09.051814Z",
     "shell.execute_reply": "2024-11-16T06:23:09.051588Z"
    }
   },
   "outputs": [
    {
     "data": {
      "text/html": [
       "<div>\n",
       "<style scoped>\n",
       "    .dataframe tbody tr th:only-of-type {\n",
       "        vertical-align: middle;\n",
       "    }\n",
       "\n",
       "    .dataframe tbody tr th {\n",
       "        vertical-align: top;\n",
       "    }\n",
       "\n",
       "    .dataframe thead th {\n",
       "        text-align: right;\n",
       "    }\n",
       "</style>\n",
       "<table border=\"1\" class=\"dataframe\">\n",
       "  <thead>\n",
       "    <tr style=\"text-align: right;\">\n",
       "      <th></th>\n",
       "      <th>Date</th>\n",
       "      <th>Amount</th>\n",
       "      <th>Item</th>\n",
       "      <th>Category</th>\n",
       "    </tr>\n",
       "  </thead>\n",
       "  <tbody>\n",
       "    <tr>\n",
       "      <th>425</th>\n",
       "      <td>2024-11-15</td>\n",
       "      <td>300</td>\n",
       "      <td>bowling</td>\n",
       "      <td>me</td>\n",
       "    </tr>\n",
       "    <tr>\n",
       "      <th>426</th>\n",
       "      <td>2024-11-15</td>\n",
       "      <td>300</td>\n",
       "      <td>bowling</td>\n",
       "      <td>me</td>\n",
       "    </tr>\n",
       "    <tr>\n",
       "      <th>427</th>\n",
       "      <td>2024-11-15</td>\n",
       "      <td>300</td>\n",
       "      <td>bowlnig</td>\n",
       "      <td>me</td>\n",
       "    </tr>\n",
       "    <tr>\n",
       "      <th>428</th>\n",
       "      <td>2024-11-15</td>\n",
       "      <td>300</td>\n",
       "      <td>bowlnig</td>\n",
       "      <td>ME</td>\n",
       "    </tr>\n",
       "    <tr>\n",
       "      <th>423</th>\n",
       "      <td>2024-11-14</td>\n",
       "      <td>200</td>\n",
       "      <td>petrol-jupiter</td>\n",
       "      <td>travel</td>\n",
       "    </tr>\n",
       "    <tr>\n",
       "      <th>424</th>\n",
       "      <td>2024-11-15</td>\n",
       "      <td>60</td>\n",
       "      <td>dosa</td>\n",
       "      <td>food</td>\n",
       "    </tr>\n",
       "  </tbody>\n",
       "</table>\n",
       "</div>"
      ],
      "text/plain": [
       "           Date  Amount            Item Category\n",
       "425  2024-11-15     300         bowling       me\n",
       "426  2024-11-15     300         bowling       me\n",
       "427  2024-11-15     300         bowlnig       me\n",
       "428  2024-11-15     300         bowlnig       ME\n",
       "423  2024-11-14     200  petrol-jupiter   travel\n",
       "424  2024-11-15      60            dosa     food"
      ]
     },
     "execution_count": 3,
     "metadata": {},
     "output_type": "execute_result"
    }
   ],
   "source": [
    "df[[\"Date\", \"Amount\", \"Item\", \"Category\"]].sort_values(by=\"Amount\", ascending=False)"
   ]
  },
  {
   "cell_type": "markdown",
   "metadata": {},
   "source": [
    "## categorical"
   ]
  },
  {
   "cell_type": "code",
   "execution_count": 4,
   "metadata": {
    "execution": {
     "iopub.execute_input": "2024-11-16T06:23:09.053204Z",
     "iopub.status.busy": "2024-11-16T06:23:09.053094Z",
     "iopub.status.idle": "2024-11-16T06:23:09.057942Z",
     "shell.execute_reply": "2024-11-16T06:23:09.057703Z"
    }
   },
   "outputs": [
    {
     "data": {
      "text/html": [
       "<div>\n",
       "<style scoped>\n",
       "    .dataframe tbody tr th:only-of-type {\n",
       "        vertical-align: middle;\n",
       "    }\n",
       "\n",
       "    .dataframe tbody tr th {\n",
       "        vertical-align: top;\n",
       "    }\n",
       "\n",
       "    .dataframe thead th {\n",
       "        text-align: right;\n",
       "    }\n",
       "</style>\n",
       "<table border=\"1\" class=\"dataframe\">\n",
       "  <thead>\n",
       "    <tr style=\"text-align: right;\">\n",
       "      <th></th>\n",
       "      <th>Amount</th>\n",
       "    </tr>\n",
       "    <tr>\n",
       "      <th>Category</th>\n",
       "      <th></th>\n",
       "    </tr>\n",
       "  </thead>\n",
       "  <tbody>\n",
       "    <tr>\n",
       "      <th>ME</th>\n",
       "      <td>300.0</td>\n",
       "    </tr>\n",
       "    <tr>\n",
       "      <th>food</th>\n",
       "      <td>30.0</td>\n",
       "    </tr>\n",
       "    <tr>\n",
       "      <th>me</th>\n",
       "      <td>900.0</td>\n",
       "    </tr>\n",
       "    <tr>\n",
       "      <th>travel</th>\n",
       "      <td>200.0</td>\n",
       "    </tr>\n",
       "  </tbody>\n",
       "</table>\n",
       "</div>"
      ],
      "text/plain": [
       "          Amount\n",
       "Category        \n",
       "ME         300.0\n",
       "food        30.0\n",
       "me         900.0\n",
       "travel     200.0"
      ]
     },
     "execution_count": 4,
     "metadata": {},
     "output_type": "execute_result"
    }
   ],
   "source": [
    "def categorical(df):\n",
    "    d = df[[\"Category\", \"Amount\", \"Split\", \"Not Me\"]]\n",
    "    d = d.drop(d[d[\"Not Me\"] == 1].index)\n",
    "    d[\"Amount\"] = d[\"Amount\"] / d[\"Split\"]\n",
    "    d.drop([\"Split\", \"Not Me\"], axis=1, inplace=True)\n",
    "    d = d.groupby(\"Category\").sum()\n",
    "    return d\n",
    "\n",
    "\n",
    "d = categorical(df)\n",
    "d"
   ]
  },
  {
   "cell_type": "markdown",
   "metadata": {},
   "source": [
    "## plot"
   ]
  },
  {
   "cell_type": "code",
   "execution_count": 5,
   "metadata": {
    "execution": {
     "iopub.execute_input": "2024-11-16T06:23:09.059419Z",
     "iopub.status.busy": "2024-11-16T06:23:09.059248Z",
     "iopub.status.idle": "2024-11-16T06:23:09.113590Z",
     "shell.execute_reply": "2024-11-16T06:23:09.113285Z"
    }
   },
   "outputs": [
    {
     "data": {
      "image/png": "[encoded data removed]",
      "text/plain": [
       "<Figure size 700x700 with 1 Axes>"
      ]
     },
     "metadata": {},
     "output_type": "display_data"
    }
   ],
   "source": [
    "def absolute_value(val):\n",
    "    return int(round(val / 100.0 * d[\"Amount\"].sum()))\n",
    "\n",
    "\n",
    "plt.figure(figsize=(7, 7))\n",
    "d[\"Amount\"].plot(kind=\"pie\", autopct=absolute_value, legend=True)\n",
    "plt.show()"
   ]
  },
  {
   "cell_type": "markdown",
   "metadata": {},
   "source": [
    "## date wise"
   ]
  },
  {
   "cell_type": "code",
   "execution_count": 6,
   "metadata": {
    "execution": {
     "iopub.execute_input": "2024-11-16T06:23:09.115191Z",
     "iopub.status.busy": "2024-11-16T06:23:09.115094Z",
     "iopub.status.idle": "2024-11-16T06:23:09.119409Z",
     "shell.execute_reply": "2024-11-16T06:23:09.119124Z"
    }
   },
   "outputs": [
    {
     "data": {
      "text/html": [
       "<div>\n",
       "<style scoped>\n",
       "    .dataframe tbody tr th:only-of-type {\n",
       "        vertical-align: middle;\n",
       "    }\n",
       "\n",
       "    .dataframe tbody tr th {\n",
       "        vertical-align: top;\n",
       "    }\n",
       "\n",
       "    .dataframe thead th {\n",
       "        text-align: right;\n",
       "    }\n",
       "</style>\n",
       "<table border=\"1\" class=\"dataframe\">\n",
       "  <thead>\n",
       "    <tr style=\"text-align: right;\">\n",
       "      <th></th>\n",
       "      <th>Amount</th>\n",
       "    </tr>\n",
       "    <tr>\n",
       "      <th>Date</th>\n",
       "      <th></th>\n",
       "    </tr>\n",
       "  </thead>\n",
       "  <tbody>\n",
       "    <tr>\n",
       "      <th>2024-11-14</th>\n",
       "      <td>200</td>\n",
       "    </tr>\n",
       "    <tr>\n",
       "      <th>2024-11-15</th>\n",
       "      <td>1260</td>\n",
       "    </tr>\n",
       "  </tbody>\n",
       "</table>\n",
       "</div>"
      ],
      "text/plain": [
       "            Amount\n",
       "Date              \n",
       "2024-11-14     200\n",
       "2024-11-15    1260"
      ]
     },
     "execution_count": 6,
     "metadata": {},
     "output_type": "execute_result"
    }
   ],
   "source": [
    "d = df[[\"Date\", \"Amount\"]].groupby(\"Date\").sum()\n",
    "d"
   ]
  },
  {
   "cell_type": "markdown",
   "metadata": {},
   "source": [
    "## plot\n"
   ]
  },
  {
   "cell_type": "code",
   "execution_count": 7,
   "metadata": {
    "execution": {
     "iopub.execute_input": "2024-11-16T06:23:09.120966Z",
     "iopub.status.busy": "2024-11-16T06:23:09.120884Z",
     "iopub.status.idle": "2024-11-16T06:23:09.228251Z",
     "shell.execute_reply": "2024-11-16T06:23:09.227991Z"
    }
   },
   "outputs": [
    {
     "data": {
      "text/plain": [
       "<Axes: xlabel='Date'>"
      ]
     },
     "execution_count": 7,
     "metadata": {},
     "output_type": "execute_result"
    },
    {
     "data": {
      "text/plain": [
       "<Figure size 900x900 with 0 Axes>"
      ]
     },
     "metadata": {},
     "output_type": "display_data"
    },
    {
     "data": {
      "image/png": "[encoded data removed]",
      "text/plain": [
       "<Figure size 640x480 with 1 Axes>"
      ]
     },
     "metadata": {},
     "output_type": "display_data"
    },
    {
     "data": {
      "image/png": "[encoded data removed]",
      "text/plain": [
       "<Figure size 640x480 with 1 Axes>"
      ]
     },
     "metadata": {},
     "output_type": "display_data"
    }
   ],
   "source": [
    "plt.figure(figsize=(9, 9))\n",
    "d.plot(kind=\"pie\", y=\"Amount\", autopct=absolute_value, legend=False)\n",
    "d.plot(kind=\"bar\")"
   ]
  },
  {
   "cell_type": "markdown",
   "metadata": {},
   "source": [
    "## owed"
   ]
  },
  {
   "cell_type": "code",
   "execution_count": 8,
   "metadata": {
    "execution": {
     "iopub.execute_input": "2024-11-16T06:23:09.229943Z",
     "iopub.status.busy": "2024-11-16T06:23:09.229814Z",
     "iopub.status.idle": "2024-11-16T06:23:09.233610Z",
     "shell.execute_reply": "2024-11-16T06:23:09.233249Z"
    }
   },
   "outputs": [
    {
     "name": "stdout",
     "output_type": "stream",
     "text": [
      "30.0\n"
     ]
    }
   ],
   "source": [
    "d = df[[\"Amount\", \"Split\", \"Not Me\"]]\n",
    "s = d[d[\"Not Me\"] == 1]\n",
    "d = d.drop(s.index)\n",
    "sum1 = s[\"Amount\"].sum()\n",
    "sum2 = (d[\"Amount\"] - (d[\"Amount\"] / d[\"Split\"])).sum()\n",
    "print(sum1 + sum2)"
   ]
  },
  {
   "cell_type": "markdown",
   "metadata": {},
   "source": [
    "## No of refills ago"
   ]
  },
  {
   "cell_type": "code",
   "execution_count": 9,
   "metadata": {
    "execution": {
     "iopub.execute_input": "2024-11-16T06:23:09.235095Z",
     "iopub.status.busy": "2024-11-16T06:23:09.235010Z",
     "iopub.status.idle": "2024-11-16T06:23:09.242128Z",
     "shell.execute_reply": "2024-11-16T06:23:09.241863Z"
    }
   },
   "outputs": [
    {
     "data": {
      "text/html": [
       "<div>\n",
       "<style scoped>\n",
       "    .dataframe tbody tr th:only-of-type {\n",
       "        vertical-align: middle;\n",
       "    }\n",
       "\n",
       "    .dataframe tbody tr th {\n",
       "        vertical-align: top;\n",
       "    }\n",
       "\n",
       "    .dataframe thead th {\n",
       "        text-align: right;\n",
       "    }\n",
       "</style>\n",
       "<table border=\"1\" class=\"dataframe\">\n",
       "  <thead>\n",
       "    <tr style=\"text-align: right;\">\n",
       "      <th></th>\n",
       "      <th>Amount</th>\n",
       "    </tr>\n",
       "    <tr>\n",
       "      <th>Category</th>\n",
       "      <th></th>\n",
       "    </tr>\n",
       "  </thead>\n",
       "  <tbody>\n",
       "    <tr>\n",
       "      <th>all</th>\n",
       "      <td>15520.0</td>\n",
       "    </tr>\n",
       "    <tr>\n",
       "      <th>food</th>\n",
       "      <td>310.0</td>\n",
       "    </tr>\n",
       "    <tr>\n",
       "      <th>me</th>\n",
       "      <td>190.0</td>\n",
       "    </tr>\n",
       "    <tr>\n",
       "      <th>travel</th>\n",
       "      <td>335.0</td>\n",
       "    </tr>\n",
       "    <tr>\n",
       "      <th>utility</th>\n",
       "      <td>3667.0</td>\n",
       "    </tr>\n",
       "  </tbody>\n",
       "</table>\n",
       "</div>"
      ],
      "text/plain": [
       "           Amount\n",
       "Category         \n",
       "all       15520.0\n",
       "food        310.0\n",
       "me          190.0\n",
       "travel      335.0\n",
       "utility    3667.0"
      ]
     },
     "execution_count": 9,
     "metadata": {},
     "output_type": "execute_result"
    }
   ],
   "source": [
    "def no_of_refills_ago(n):\n",
    "    df = pd.read_csv(\"expenses.csv\")\n",
    "    refill_index = df[df[\"Date\"] == \"Refill\"].index[-(n)]\n",
    "    try:\n",
    "        refill_index2 = df[df[\"Date\"] == \"Refill\"].index[-(n + 1)]\n",
    "    except:\n",
    "        refill_index2 = 0\n",
    "    df = df.loc[refill_index2 + 1 : refill_index - 1]\n",
    "    df[\"Amount\"] = df[\"Amount\"].astype(int)\n",
    "    df[\"Split\"] = df[\"Split\"].astype(float)\n",
    "    df[\"Not Me\"] = df[\"Not Me\"].astype(int)\n",
    "    return categorical(df)\n",
    "\n",
    "\n",
    "e = no_of_refills_ago(1)\n",
    "e"
   ]
  },
  {
   "cell_type": "markdown",
   "metadata": {},
   "source": [
    "## common items"
   ]
  },
  {
   "cell_type": "code",
   "execution_count": 10,
   "metadata": {
    "execution": {
     "iopub.execute_input": "2024-11-16T06:23:09.243608Z",
     "iopub.status.busy": "2024-11-16T06:23:09.243500Z",
     "iopub.status.idle": "2024-11-16T06:23:09.246905Z",
     "shell.execute_reply": "2024-11-16T06:23:09.246623Z"
    }
   },
   "outputs": [
    {
     "name": "stdout",
     "output_type": "stream",
     "text": [
      "Item\n",
      "milk            38\n",
      "petrol          32\n",
      "vegetables      28\n",
      "chocolate       26\n",
      "honey-chilli    11\n",
      "                ..\n",
      "jam              1\n",
      "gonemad          1\n",
      "bun              1\n",
      "shake            1\n",
      "clothes-iron     1\n",
      "Name: count, Length: 148, dtype: int64\n"
     ]
    }
   ],
   "source": [
    "import pandas as pd\n",
    "\n",
    "\n",
    "def most_common_item():\n",
    "    df = pd.read_csv(\"expenses.csv\")\n",
    "    a = df[\"Item\"].value_counts()\n",
    "    print(a)\n",
    "\n",
    "\n",
    "most_common_item()"
   ]
  },
  {
   "cell_type": "markdown",
   "metadata": {},
   "source": [
    "# All time - starting sep 2022"
   ]
  },
  {
   "cell_type": "code",
   "execution_count": 11,
   "metadata": {
    "execution": {
     "iopub.execute_input": "2024-11-16T06:23:09.248319Z",
     "iopub.status.busy": "2024-11-16T06:23:09.248215Z",
     "iopub.status.idle": "2024-11-16T06:23:09.252575Z",
     "shell.execute_reply": "2024-11-16T06:23:09.252354Z"
    }
   },
   "outputs": [
    {
     "data": {
      "text/plain": [
       "151016.66666666666"
      ]
     },
     "execution_count": 11,
     "metadata": {},
     "output_type": "execute_result"
    }
   ],
   "source": [
    "import pandas as pd\n",
    "\n",
    "df = pd.read_csv(\"expenses.csv\")\n",
    "df = df.drop(df[df[\"Date\"] == \"Refill\"].index)\n",
    "df[\"Amount\"] = df[\"Amount\"].astype(int)\n",
    "df[\"Split\"] = df[\"Split\"].astype(float)\n",
    "df[\"Not Me\"] = df[\"Not Me\"].astype(int)\n",
    "y = df[df[\"Not Me\"] == 0]\n",
    "x = y[\"Amount\"] / y[\"Split\"]\n",
    "86000 + x.sum()"
   ]
  },
  {
   "cell_type": "markdown",
   "metadata": {},
   "source": [
    "# Month Wise"
   ]
  },
  {
   "cell_type": "code",
   "execution_count": 12,
   "metadata": {
    "execution": {
     "iopub.execute_input": "2024-11-16T06:23:09.254135Z",
     "iopub.status.busy": "2024-11-16T06:23:09.254029Z",
     "iopub.status.idle": "2024-11-16T06:23:09.261055Z",
     "shell.execute_reply": "2024-11-16T06:23:09.260824Z"
    }
   },
   "outputs": [
    {
     "data": {
      "text/plain": [
       "Date\n",
       "4      6557.500000\n",
       "5      9096.000000\n",
       "6      6799.500000\n",
       "7      7773.000000\n",
       "8      9305.166667\n",
       "9      8535.500000\n",
       "11    16950.000000\n",
       "Name: Amount, dtype: float64"
      ]
     },
     "execution_count": 12,
     "metadata": {},
     "output_type": "execute_result"
    }
   ],
   "source": [
    "import pandas as pd\n",
    "\n",
    "df = pd.read_csv(\"expenses.csv\")\n",
    "df = df.drop(df[df[\"Date\"] == \"Refill\"].index)\n",
    "df[\"Amount\"] = df[\"Amount\"].astype(int)\n",
    "df[\"Split\"] = df[\"Split\"].astype(float)\n",
    "df[\"Not Me\"] = df[\"Not Me\"].astype(int)\n",
    "df = df.drop(df[df[\"Not Me\"] == 1].index)\n",
    "df[\"Amount\"] = df[\"Amount\"] / df[\"Split\"]\n",
    "df[\"Date\"] = pd.to_datetime(df[\"Date\"], format=\"%Y-%m-%d\")\n",
    "s = df.groupby(df[\"Date\"].dt.month)\n",
    "s = s[\"Amount\"].sum()\n",
    "s"
   ]
  }
 ],
 "metadata": {
  "kernelspec": {
   "display_name": "Python 3",
   "language": "python",
   "name": "python3"
  },
  "language_info": {
   "codemirror_mode": {
    "name": "ipython",
    "version": 3
   },
   "file_extension": ".py",
   "mimetype": "text/x-python",
   "name": "python",
   "nbconvert_exporter": "python",
   "pygments_lexer": "ipython3",
   "version": "3.11.4"
  }
 },
 "nbformat": 4,
 "nbformat_minor": 2
}
