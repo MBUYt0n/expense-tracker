{
 "cells": [
  {
   "cell_type": "code",
   "execution_count": 1,
   "metadata": {
    "execution": {
     "iopub.execute_input": "2025-03-22T08:53:52.653221Z",
     "iopub.status.busy": "2025-03-22T08:53:52.652747Z",
     "iopub.status.idle": "2025-03-22T08:53:58.953874Z",
     "shell.execute_reply": "2025-03-22T08:53:58.953188Z"
    }
   },
   "outputs": [
    {
     "data": {
      "text/html": [
       "<div>\n",
       "<style scoped>\n",
       "    .dataframe tbody tr th:only-of-type {\n",
       "        vertical-align: middle;\n",
       "    }\n",
       "\n",
       "    .dataframe tbody tr th {\n",
       "        vertical-align: top;\n",
       "    }\n",
       "\n",
       "    .dataframe thead th {\n",
       "        text-align: right;\n",
       "    }\n",
       "</style>\n",
       "<table border=\"1\" class=\"dataframe\">\n",
       "  <thead>\n",
       "    <tr style=\"text-align: right;\">\n",
       "      <th></th>\n",
       "      <th>Date</th>\n",
       "      <th>Amount</th>\n",
       "      <th>Item</th>\n",
       "      <th>Category</th>\n",
       "      <th>Split</th>\n",
       "      <th>Not Me</th>\n",
       "    </tr>\n",
       "  </thead>\n",
       "  <tbody>\n",
       "    <tr>\n",
       "      <th>481</th>\n",
       "      <td>2025-03-17</td>\n",
       "      <td>950</td>\n",
       "      <td>AT</td>\n",
       "      <td>me</td>\n",
       "      <td>1</td>\n",
       "      <td>0</td>\n",
       "    </tr>\n",
       "    <tr>\n",
       "      <th>482</th>\n",
       "      <td>2025-03-17</td>\n",
       "      <td>30</td>\n",
       "      <td>maggie</td>\n",
       "      <td>food</td>\n",
       "      <td>2</td>\n",
       "      <td>0</td>\n",
       "    </tr>\n",
       "    <tr>\n",
       "      <th>483</th>\n",
       "      <td>2025-03-17</td>\n",
       "      <td>20</td>\n",
       "      <td>juice</td>\n",
       "      <td>food</td>\n",
       "      <td>2</td>\n",
       "      <td>0</td>\n",
       "    </tr>\n",
       "    <tr>\n",
       "      <th>484</th>\n",
       "      <td>2025-03-16</td>\n",
       "      <td>144</td>\n",
       "      <td>milk</td>\n",
       "      <td>utility</td>\n",
       "      <td>1</td>\n",
       "      <td>0</td>\n",
       "    </tr>\n",
       "    <tr>\n",
       "      <th>485</th>\n",
       "      <td>2025-03-18</td>\n",
       "      <td>45</td>\n",
       "      <td>pani puri</td>\n",
       "      <td>food</td>\n",
       "      <td>2</td>\n",
       "      <td>0</td>\n",
       "    </tr>\n",
       "    <tr>\n",
       "      <th>486</th>\n",
       "      <td>2025-03-18</td>\n",
       "      <td>104</td>\n",
       "      <td>milk</td>\n",
       "      <td>utility</td>\n",
       "      <td>1</td>\n",
       "      <td>0</td>\n",
       "    </tr>\n",
       "    <tr>\n",
       "      <th>487</th>\n",
       "      <td>2025-03-18</td>\n",
       "      <td>100</td>\n",
       "      <td>petrol-jupyter</td>\n",
       "      <td>travel</td>\n",
       "      <td>1</td>\n",
       "      <td>0</td>\n",
       "    </tr>\n",
       "    <tr>\n",
       "      <th>488</th>\n",
       "      <td>2025-03-18</td>\n",
       "      <td>200</td>\n",
       "      <td>petrol-activa</td>\n",
       "      <td>travel</td>\n",
       "      <td>2</td>\n",
       "      <td>0</td>\n",
       "    </tr>\n",
       "    <tr>\n",
       "      <th>489</th>\n",
       "      <td>2025-03-19</td>\n",
       "      <td>20</td>\n",
       "      <td>chocolate</td>\n",
       "      <td>food</td>\n",
       "      <td>2</td>\n",
       "      <td>0</td>\n",
       "    </tr>\n",
       "    <tr>\n",
       "      <th>490</th>\n",
       "      <td>2025-03-19</td>\n",
       "      <td>70</td>\n",
       "      <td>mogu-mogu</td>\n",
       "      <td>food</td>\n",
       "      <td>2</td>\n",
       "      <td>0</td>\n",
       "    </tr>\n",
       "    <tr>\n",
       "      <th>491</th>\n",
       "      <td>2025-03-21</td>\n",
       "      <td>104</td>\n",
       "      <td>Milk</td>\n",
       "      <td>utility</td>\n",
       "      <td>1</td>\n",
       "      <td>0</td>\n",
       "    </tr>\n",
       "    <tr>\n",
       "      <th>492</th>\n",
       "      <td>2025-03-21</td>\n",
       "      <td>20</td>\n",
       "      <td>Chocolate</td>\n",
       "      <td>food</td>\n",
       "      <td>2</td>\n",
       "      <td>0</td>\n",
       "    </tr>\n",
       "    <tr>\n",
       "      <th>493</th>\n",
       "      <td>2025-03-21</td>\n",
       "      <td>240</td>\n",
       "      <td>Food</td>\n",
       "      <td>food</td>\n",
       "      <td>2</td>\n",
       "      <td>0</td>\n",
       "    </tr>\n",
       "    <tr>\n",
       "      <th>494</th>\n",
       "      <td>2025-03-21</td>\n",
       "      <td>70</td>\n",
       "      <td>Mogu mogu</td>\n",
       "      <td>food</td>\n",
       "      <td>2</td>\n",
       "      <td>0</td>\n",
       "    </tr>\n",
       "    <tr>\n",
       "      <th>495</th>\n",
       "      <td>2025-03-21</td>\n",
       "      <td>200</td>\n",
       "      <td>Petrol</td>\n",
       "      <td>travel</td>\n",
       "      <td>2</td>\n",
       "      <td>0</td>\n",
       "    </tr>\n",
       "    <tr>\n",
       "      <th>496</th>\n",
       "      <td>2025-03-21</td>\n",
       "      <td>60</td>\n",
       "      <td>Icecream</td>\n",
       "      <td>food</td>\n",
       "      <td>2</td>\n",
       "      <td>0</td>\n",
       "    </tr>\n",
       "    <tr>\n",
       "      <th>497</th>\n",
       "      <td>2025-03-22</td>\n",
       "      <td>320</td>\n",
       "      <td>grapes</td>\n",
       "      <td>utility</td>\n",
       "      <td>1</td>\n",
       "      <td>0</td>\n",
       "    </tr>\n",
       "  </tbody>\n",
       "</table>\n",
       "</div>"
      ],
      "text/plain": [
       "           Date  Amount            Item Category  Split  Not Me\n",
       "481  2025-03-17     950              AT       me      1       0\n",
       "482  2025-03-17      30          maggie     food      2       0\n",
       "483  2025-03-17      20           juice     food      2       0\n",
       "484  2025-03-16     144            milk  utility      1       0\n",
       "485  2025-03-18      45       pani puri     food      2       0\n",
       "486  2025-03-18     104            milk  utility      1       0\n",
       "487  2025-03-18     100  petrol-jupyter   travel      1       0\n",
       "488  2025-03-18     200   petrol-activa   travel      2       0\n",
       "489  2025-03-19      20       chocolate     food      2       0\n",
       "490  2025-03-19      70       mogu-mogu     food      2       0\n",
       "491  2025-03-21     104            Milk  utility      1       0\n",
       "492  2025-03-21      20      Chocolate      food      2       0\n",
       "493  2025-03-21     240            Food     food      2       0\n",
       "494  2025-03-21      70       Mogu mogu     food      2       0\n",
       "495  2025-03-21     200          Petrol   travel      2       0\n",
       "496  2025-03-21      60       Icecream      food      2       0\n",
       "497  2025-03-22     320          grapes  utility      1       0"
      ]
     },
     "execution_count": 1,
     "metadata": {},
     "output_type": "execute_result"
    }
   ],
   "source": [
    "import pandas as pd\n",
    "import numpy as np\n",
    "import matplotlib.pyplot as plt\n",
    "\n",
    "\n",
    "def reader(n):\n",
    "    df = pd.read_csv(\"expenses.csv\")\n",
    "\n",
    "    try:\n",
    "        refill_index = df[df[\"Date\"] == \"Refill\"].index[-n]\n",
    "        df = df.loc[refill_index + 1 :]\n",
    "    except:\n",
    "        pass\n",
    "    df[\"Amount\"] = df[\"Amount\"].astype(int)\n",
    "    df[\"Split\"] = df[\"Split\"].astype(int)\n",
    "    df[\"Not Me\"] = df[\"Not Me\"].astype(int)\n",
    "    return df\n",
    "\n",
    "\n",
    "df = reader(1)\n",
    "df"
   ]
  },
  {
   "cell_type": "markdown",
   "metadata": {},
   "source": [
    "## total spend"
   ]
  },
  {
   "cell_type": "code",
   "execution_count": 2,
   "metadata": {
    "execution": {
     "iopub.execute_input": "2025-03-22T08:53:59.255726Z",
     "iopub.status.busy": "2025-03-22T08:53:59.255247Z",
     "iopub.status.idle": "2025-03-22T08:53:59.349426Z",
     "shell.execute_reply": "2025-03-22T08:53:59.348696Z"
    }
   },
   "outputs": [
    {
     "data": {
      "text/plain": [
       "np.float64(2209.5)"
      ]
     },
     "execution_count": 2,
     "metadata": {},
     "output_type": "execute_result"
    }
   ],
   "source": [
    "def total_spent(df):\n",
    "    d = df.drop(df[df[\"Not Me\"] == 1].index)\n",
    "    d[\"Amount\"] = d[\"Amount\"] / d[\"Split\"]\n",
    "    return d[\"Amount\"].sum()\n",
    "\n",
    "\n",
    "a = total_spent(df)\n",
    "a"
   ]
  },
  {
   "cell_type": "markdown",
   "metadata": {},
   "source": [
    "# top spends"
   ]
  },
  {
   "cell_type": "code",
   "execution_count": 3,
   "metadata": {
    "execution": {
     "iopub.execute_input": "2025-03-22T08:53:59.352069Z",
     "iopub.status.busy": "2025-03-22T08:53:59.351504Z",
     "iopub.status.idle": "2025-03-22T08:53:59.454384Z",
     "shell.execute_reply": "2025-03-22T08:53:59.453739Z"
    }
   },
   "outputs": [
    {
     "name": "stderr",
     "output_type": "stream",
     "text": [
      "/tmp/ipykernel_44/1401979835.py:2: FutureWarning: Setting an item of incompatible dtype is deprecated and will raise in a future error of pandas. Value '[950.   15.   10.  144.   22.5 104.  100.  100.   10.   35.  104.   10.\n",
      " 120.   35.  100.   30.  320. ]' has dtype incompatible with int64, please explicitly cast to a compatible dtype first.\n",
      "  a.loc[:, \"Amount\"] = a[\"Amount\"] / df[\"Split\"]\n"
     ]
    },
    {
     "data": {
      "text/html": [
       "<div>\n",
       "<style scoped>\n",
       "    .dataframe tbody tr th:only-of-type {\n",
       "        vertical-align: middle;\n",
       "    }\n",
       "\n",
       "    .dataframe tbody tr th {\n",
       "        vertical-align: top;\n",
       "    }\n",
       "\n",
       "    .dataframe thead th {\n",
       "        text-align: right;\n",
       "    }\n",
       "</style>\n",
       "<table border=\"1\" class=\"dataframe\">\n",
       "  <thead>\n",
       "    <tr style=\"text-align: right;\">\n",
       "      <th></th>\n",
       "      <th>Date</th>\n",
       "      <th>Amount</th>\n",
       "      <th>Item</th>\n",
       "      <th>Category</th>\n",
       "    </tr>\n",
       "  </thead>\n",
       "  <tbody>\n",
       "    <tr>\n",
       "      <th>481</th>\n",
       "      <td>2025-03-17</td>\n",
       "      <td>950.0</td>\n",
       "      <td>AT</td>\n",
       "      <td>me</td>\n",
       "    </tr>\n",
       "    <tr>\n",
       "      <th>497</th>\n",
       "      <td>2025-03-22</td>\n",
       "      <td>320.0</td>\n",
       "      <td>grapes</td>\n",
       "      <td>utility</td>\n",
       "    </tr>\n",
       "    <tr>\n",
       "      <th>484</th>\n",
       "      <td>2025-03-16</td>\n",
       "      <td>144.0</td>\n",
       "      <td>milk</td>\n",
       "      <td>utility</td>\n",
       "    </tr>\n",
       "    <tr>\n",
       "      <th>493</th>\n",
       "      <td>2025-03-21</td>\n",
       "      <td>120.0</td>\n",
       "      <td>Food</td>\n",
       "      <td>food</td>\n",
       "    </tr>\n",
       "    <tr>\n",
       "      <th>486</th>\n",
       "      <td>2025-03-18</td>\n",
       "      <td>104.0</td>\n",
       "      <td>milk</td>\n",
       "      <td>utility</td>\n",
       "    </tr>\n",
       "    <tr>\n",
       "      <th>491</th>\n",
       "      <td>2025-03-21</td>\n",
       "      <td>104.0</td>\n",
       "      <td>Milk</td>\n",
       "      <td>utility</td>\n",
       "    </tr>\n",
       "    <tr>\n",
       "      <th>495</th>\n",
       "      <td>2025-03-21</td>\n",
       "      <td>100.0</td>\n",
       "      <td>Petrol</td>\n",
       "      <td>travel</td>\n",
       "    </tr>\n",
       "    <tr>\n",
       "      <th>487</th>\n",
       "      <td>2025-03-18</td>\n",
       "      <td>100.0</td>\n",
       "      <td>petrol-jupyter</td>\n",
       "      <td>travel</td>\n",
       "    </tr>\n",
       "    <tr>\n",
       "      <th>488</th>\n",
       "      <td>2025-03-18</td>\n",
       "      <td>100.0</td>\n",
       "      <td>petrol-activa</td>\n",
       "      <td>travel</td>\n",
       "    </tr>\n",
       "    <tr>\n",
       "      <th>494</th>\n",
       "      <td>2025-03-21</td>\n",
       "      <td>35.0</td>\n",
       "      <td>Mogu mogu</td>\n",
       "      <td>food</td>\n",
       "    </tr>\n",
       "    <tr>\n",
       "      <th>490</th>\n",
       "      <td>2025-03-19</td>\n",
       "      <td>35.0</td>\n",
       "      <td>mogu-mogu</td>\n",
       "      <td>food</td>\n",
       "    </tr>\n",
       "    <tr>\n",
       "      <th>496</th>\n",
       "      <td>2025-03-21</td>\n",
       "      <td>30.0</td>\n",
       "      <td>Icecream</td>\n",
       "      <td>food</td>\n",
       "    </tr>\n",
       "    <tr>\n",
       "      <th>485</th>\n",
       "      <td>2025-03-18</td>\n",
       "      <td>22.5</td>\n",
       "      <td>pani puri</td>\n",
       "      <td>food</td>\n",
       "    </tr>\n",
       "    <tr>\n",
       "      <th>482</th>\n",
       "      <td>2025-03-17</td>\n",
       "      <td>15.0</td>\n",
       "      <td>maggie</td>\n",
       "      <td>food</td>\n",
       "    </tr>\n",
       "    <tr>\n",
       "      <th>483</th>\n",
       "      <td>2025-03-17</td>\n",
       "      <td>10.0</td>\n",
       "      <td>juice</td>\n",
       "      <td>food</td>\n",
       "    </tr>\n",
       "    <tr>\n",
       "      <th>489</th>\n",
       "      <td>2025-03-19</td>\n",
       "      <td>10.0</td>\n",
       "      <td>chocolate</td>\n",
       "      <td>food</td>\n",
       "    </tr>\n",
       "    <tr>\n",
       "      <th>492</th>\n",
       "      <td>2025-03-21</td>\n",
       "      <td>10.0</td>\n",
       "      <td>Chocolate</td>\n",
       "      <td>food</td>\n",
       "    </tr>\n",
       "  </tbody>\n",
       "</table>\n",
       "</div>"
      ],
      "text/plain": [
       "           Date  Amount            Item Category\n",
       "481  2025-03-17   950.0              AT       me\n",
       "497  2025-03-22   320.0          grapes  utility\n",
       "484  2025-03-16   144.0            milk  utility\n",
       "493  2025-03-21   120.0            Food     food\n",
       "486  2025-03-18   104.0            milk  utility\n",
       "491  2025-03-21   104.0            Milk  utility\n",
       "495  2025-03-21   100.0          Petrol   travel\n",
       "487  2025-03-18   100.0  petrol-jupyter   travel\n",
       "488  2025-03-18   100.0   petrol-activa   travel\n",
       "494  2025-03-21    35.0       Mogu mogu     food\n",
       "490  2025-03-19    35.0       mogu-mogu     food\n",
       "496  2025-03-21    30.0       Icecream      food\n",
       "485  2025-03-18    22.5       pani puri     food\n",
       "482  2025-03-17    15.0          maggie     food\n",
       "483  2025-03-17    10.0           juice     food\n",
       "489  2025-03-19    10.0       chocolate     food\n",
       "492  2025-03-21    10.0      Chocolate      food"
      ]
     },
     "execution_count": 3,
     "metadata": {},
     "output_type": "execute_result"
    }
   ],
   "source": [
    "a = df[[\"Date\", \"Amount\", \"Item\", \"Category\"]]\n",
    "a.loc[:, \"Amount\"] = a[\"Amount\"] / df[\"Split\"]\n",
    "a.sort_values(by=\"Amount\", ascending=False)"
   ]
  },
  {
   "cell_type": "markdown",
   "metadata": {},
   "source": [
    "## categorical"
   ]
  },
  {
   "cell_type": "code",
   "execution_count": 4,
   "metadata": {
    "execution": {
     "iopub.execute_input": "2025-03-22T08:53:59.546474Z",
     "iopub.status.busy": "2025-03-22T08:53:59.546192Z",
     "iopub.status.idle": "2025-03-22T08:53:59.556684Z",
     "shell.execute_reply": "2025-03-22T08:53:59.555944Z"
    }
   },
   "outputs": [
    {
     "data": {
      "text/html": [
       "<div>\n",
       "<style scoped>\n",
       "    .dataframe tbody tr th:only-of-type {\n",
       "        vertical-align: middle;\n",
       "    }\n",
       "\n",
       "    .dataframe tbody tr th {\n",
       "        vertical-align: top;\n",
       "    }\n",
       "\n",
       "    .dataframe thead th {\n",
       "        text-align: right;\n",
       "    }\n",
       "</style>\n",
       "<table border=\"1\" class=\"dataframe\">\n",
       "  <thead>\n",
       "    <tr style=\"text-align: right;\">\n",
       "      <th></th>\n",
       "      <th>Amount</th>\n",
       "    </tr>\n",
       "    <tr>\n",
       "      <th>Category</th>\n",
       "      <th></th>\n",
       "    </tr>\n",
       "  </thead>\n",
       "  <tbody>\n",
       "    <tr>\n",
       "      <th>food</th>\n",
       "      <td>287.5</td>\n",
       "    </tr>\n",
       "    <tr>\n",
       "      <th>me</th>\n",
       "      <td>950.0</td>\n",
       "    </tr>\n",
       "    <tr>\n",
       "      <th>travel</th>\n",
       "      <td>300.0</td>\n",
       "    </tr>\n",
       "    <tr>\n",
       "      <th>utility</th>\n",
       "      <td>672.0</td>\n",
       "    </tr>\n",
       "  </tbody>\n",
       "</table>\n",
       "</div>"
      ],
      "text/plain": [
       "          Amount\n",
       "Category        \n",
       "food       287.5\n",
       "me         950.0\n",
       "travel     300.0\n",
       "utility    672.0"
      ]
     },
     "execution_count": 4,
     "metadata": {},
     "output_type": "execute_result"
    }
   ],
   "source": [
    "def categorical(df):\n",
    "    d = df[[\"Category\", \"Amount\", \"Split\", \"Not Me\"]]\n",
    "    d = d.drop(d[d[\"Not Me\"] == 1].index)\n",
    "    d[\"Amount\"] = d[\"Amount\"] / d[\"Split\"]\n",
    "    d.drop([\"Split\", \"Not Me\"], axis=1, inplace=True)\n",
    "    d = d.groupby(\"Category\").sum()\n",
    "    return d\n",
    "\n",
    "\n",
    "d = categorical(df)\n",
    "d"
   ]
  },
  {
   "cell_type": "markdown",
   "metadata": {},
   "source": [
    "## plot"
   ]
  },
  {
   "cell_type": "code",
   "execution_count": 5,
   "metadata": {
    "execution": {
     "iopub.execute_input": "2025-03-22T08:53:59.645834Z",
     "iopub.status.busy": "2025-03-22T08:53:59.558692Z",
     "iopub.status.idle": "2025-03-22T08:54:00.547566Z",
     "shell.execute_reply": "2025-03-22T08:54:00.546719Z"
    }
   },
   "outputs": [
    {
     "data": {
      "image/png": "[encoded data removed]",
      "text/plain": [
       "<Figure size 700x700 with 1 Axes>"
      ]
     },
     "metadata": {},
     "output_type": "display_data"
    }
   ],
   "source": [
    "def absolute_value(val):\n",
    "    return int(round(val / 100.0 * d[\"Amount\"].sum()))\n",
    "\n",
    "\n",
    "plt.figure(figsize=(7, 7))\n",
    "d[\"Amount\"].plot(kind=\"pie\", autopct=absolute_value, legend=True)\n",
    "plt.show()"
   ]
  },
  {
   "cell_type": "markdown",
   "metadata": {},
   "source": [
    "## date wise"
   ]
  },
  {
   "cell_type": "code",
   "execution_count": 6,
   "metadata": {
    "execution": {
     "iopub.execute_input": "2025-03-22T08:54:00.550906Z",
     "iopub.status.busy": "2025-03-22T08:54:00.550597Z",
     "iopub.status.idle": "2025-03-22T08:54:00.645862Z",
     "shell.execute_reply": "2025-03-22T08:54:00.559576Z"
    }
   },
   "outputs": [
    {
     "data": {
      "text/html": [
       "<div>\n",
       "<style scoped>\n",
       "    .dataframe tbody tr th:only-of-type {\n",
       "        vertical-align: middle;\n",
       "    }\n",
       "\n",
       "    .dataframe tbody tr th {\n",
       "        vertical-align: top;\n",
       "    }\n",
       "\n",
       "    .dataframe thead th {\n",
       "        text-align: right;\n",
       "    }\n",
       "</style>\n",
       "<table border=\"1\" class=\"dataframe\">\n",
       "  <thead>\n",
       "    <tr style=\"text-align: right;\">\n",
       "      <th></th>\n",
       "      <th>Amount</th>\n",
       "    </tr>\n",
       "    <tr>\n",
       "      <th>Date</th>\n",
       "      <th></th>\n",
       "    </tr>\n",
       "  </thead>\n",
       "  <tbody>\n",
       "    <tr>\n",
       "      <th>2025-03-16</th>\n",
       "      <td>144</td>\n",
       "    </tr>\n",
       "    <tr>\n",
       "      <th>2025-03-17</th>\n",
       "      <td>1000</td>\n",
       "    </tr>\n",
       "    <tr>\n",
       "      <th>2025-03-18</th>\n",
       "      <td>449</td>\n",
       "    </tr>\n",
       "    <tr>\n",
       "      <th>2025-03-19</th>\n",
       "      <td>90</td>\n",
       "    </tr>\n",
       "    <tr>\n",
       "      <th>2025-03-21</th>\n",
       "      <td>694</td>\n",
       "    </tr>\n",
       "    <tr>\n",
       "      <th>2025-03-22</th>\n",
       "      <td>320</td>\n",
       "    </tr>\n",
       "  </tbody>\n",
       "</table>\n",
       "</div>"
      ],
      "text/plain": [
       "            Amount\n",
       "Date              \n",
       "2025-03-16     144\n",
       "2025-03-17    1000\n",
       "2025-03-18     449\n",
       "2025-03-19      90\n",
       "2025-03-21     694\n",
       "2025-03-22     320"
      ]
     },
     "execution_count": 6,
     "metadata": {},
     "output_type": "execute_result"
    }
   ],
   "source": [
    "d = df[[\"Date\", \"Amount\"]].groupby(\"Date\").sum()\n",
    "d"
   ]
  },
  {
   "cell_type": "markdown",
   "metadata": {},
   "source": [
    "## plot\n"
   ]
  },
  {
   "cell_type": "code",
   "execution_count": 7,
   "metadata": {
    "execution": {
     "iopub.execute_input": "2025-03-22T08:54:00.649336Z",
     "iopub.status.busy": "2025-03-22T08:54:00.648694Z",
     "iopub.status.idle": "2025-03-22T08:54:02.158582Z",
     "shell.execute_reply": "2025-03-22T08:54:02.157885Z"
    }
   },
   "outputs": [
    {
     "data": {
      "text/plain": [
       "<Figure size 900x900 with 0 Axes>"
      ]
     },
     "metadata": {},
     "output_type": "display_data"
    },
    {
     "data": {
      "image/png": "[encoded data removed]",
      "text/plain": [
       "<Figure size 640x480 with 1 Axes>"
      ]
     },
     "metadata": {},
     "output_type": "display_data"
    },
    {
     "data": {
      "image/png": "[encoded data removed]",
      "text/plain": [
       "<Figure size 640x480 with 1 Axes>"
      ]
     },
     "metadata": {},
     "output_type": "display_data"
    }
   ],
   "source": [
    "plt.figure(figsize=(9, 9))\n",
    "try:\n",
    "    d.plot(kind=\"pie\", y=\"Amount\", autopct=absolute_value, legend=False)\n",
    "    d.plot(kind=\"bar\")\n",
    "except:\n",
    "    pass"
   ]
  },
  {
   "cell_type": "markdown",
   "metadata": {},
   "source": [
    "## owed"
   ]
  },
  {
   "cell_type": "code",
   "execution_count": 8,
   "metadata": {
    "execution": {
     "iopub.execute_input": "2025-03-22T08:54:02.247984Z",
     "iopub.status.busy": "2025-03-22T08:54:02.247467Z",
     "iopub.status.idle": "2025-03-22T08:54:02.254824Z",
     "shell.execute_reply": "2025-03-22T08:54:02.253972Z"
    }
   },
   "outputs": [
    {
     "name": "stdout",
     "output_type": "stream",
     "text": [
      "487.5\n"
     ]
    }
   ],
   "source": [
    "d = df[[\"Amount\", \"Split\", \"Not Me\"]]\n",
    "s = d[d[\"Not Me\"] == 1]\n",
    "d = d.drop(s.index)\n",
    "sum1 = s[\"Amount\"].sum()\n",
    "sum2 = (d[\"Amount\"] - (d[\"Amount\"] / d[\"Split\"])).sum()\n",
    "print(sum1 + sum2)"
   ]
  },
  {
   "cell_type": "markdown",
   "metadata": {},
   "source": [
    "## No of refills ago"
   ]
  },
  {
   "cell_type": "code",
   "execution_count": 9,
   "metadata": {
    "execution": {
     "iopub.execute_input": "2025-03-22T08:54:02.257166Z",
     "iopub.status.busy": "2025-03-22T08:54:02.256933Z",
     "iopub.status.idle": "2025-03-22T08:54:02.454821Z",
     "shell.execute_reply": "2025-03-22T08:54:02.453794Z"
    }
   },
   "outputs": [
    {
     "data": {
      "text/html": [
       "<div>\n",
       "<style scoped>\n",
       "    .dataframe tbody tr th:only-of-type {\n",
       "        vertical-align: middle;\n",
       "    }\n",
       "\n",
       "    .dataframe tbody tr th {\n",
       "        vertical-align: top;\n",
       "    }\n",
       "\n",
       "    .dataframe thead th {\n",
       "        text-align: right;\n",
       "    }\n",
       "</style>\n",
       "<table border=\"1\" class=\"dataframe\">\n",
       "  <thead>\n",
       "    <tr style=\"text-align: right;\">\n",
       "      <th></th>\n",
       "      <th>Amount</th>\n",
       "    </tr>\n",
       "    <tr>\n",
       "      <th>Category</th>\n",
       "      <th></th>\n",
       "    </tr>\n",
       "  </thead>\n",
       "  <tbody>\n",
       "    <tr>\n",
       "      <th>all</th>\n",
       "      <td>5000.0</td>\n",
       "    </tr>\n",
       "  </tbody>\n",
       "</table>\n",
       "</div>"
      ],
      "text/plain": [
       "          Amount\n",
       "Category        \n",
       "all       5000.0"
      ]
     },
     "execution_count": 9,
     "metadata": {},
     "output_type": "execute_result"
    }
   ],
   "source": [
    "def no_of_refills_ago(n):\n",
    "    df = pd.read_csv(\"expenses.csv\")\n",
    "    refill_index = df[df[\"Date\"] == \"Refill\"].index[-(n)]\n",
    "    try:\n",
    "        refill_index2 = df[df[\"Date\"] == \"Refill\"].index[-(n + 1)]\n",
    "    except:\n",
    "        refill_index2 = 0\n",
    "    df = df.loc[refill_index2 + 1 : refill_index - 1]\n",
    "    df[\"Amount\"] = df[\"Amount\"].astype(int)\n",
    "    df[\"Split\"] = df[\"Split\"].astype(float)\n",
    "    df[\"Not Me\"] = df[\"Not Me\"].astype(int)\n",
    "    return categorical(df)\n",
    "\n",
    "\n",
    "e = no_of_refills_ago(1)\n",
    "e"
   ]
  },
  {
   "cell_type": "markdown",
   "metadata": {},
   "source": [
    "## common items"
   ]
  },
  {
   "cell_type": "code",
   "execution_count": 10,
   "metadata": {
    "execution": {
     "iopub.execute_input": "2025-03-22T08:54:02.458662Z",
     "iopub.status.busy": "2025-03-22T08:54:02.458194Z",
     "iopub.status.idle": "2025-03-22T08:54:02.552138Z",
     "shell.execute_reply": "2025-03-22T08:54:02.551365Z"
    }
   },
   "outputs": [
    {
     "name": "stdout",
     "output_type": "stream",
     "text": [
      "Item\n",
      "milk          45\n",
      "petrol        34\n",
      "chocolate     33\n",
      "vegetables    28\n",
      "refill        13\n",
      "              ..\n",
      "Food           1\n",
      "Mogu mogu      1\n",
      "Petrol         1\n",
      "Icecream       1\n",
      "grapes         1\n",
      "Name: count, Length: 164, dtype: int64\n"
     ]
    }
   ],
   "source": [
    "import pandas as pd\n",
    "\n",
    "\n",
    "def most_common_item():\n",
    "    df = pd.read_csv(\"expenses.csv\")\n",
    "    a = df[\"Item\"].value_counts()\n",
    "    print(a)\n",
    "\n",
    "\n",
    "most_common_item()"
   ]
  },
  {
   "cell_type": "markdown",
   "metadata": {},
   "source": [
    "# All time - starting sep 2022"
   ]
  },
  {
   "cell_type": "code",
   "execution_count": 11,
   "metadata": {
    "execution": {
     "iopub.execute_input": "2025-03-22T08:54:02.555047Z",
     "iopub.status.busy": "2025-03-22T08:54:02.554493Z",
     "iopub.status.idle": "2025-03-22T08:54:02.653684Z",
     "shell.execute_reply": "2025-03-22T08:54:02.653050Z"
    }
   },
   "outputs": [
    {
     "data": {
      "text/plain": [
       "np.float64(183356.6666666667)"
      ]
     },
     "execution_count": 11,
     "metadata": {},
     "output_type": "execute_result"
    }
   ],
   "source": [
    "import pandas as pd\n",
    "\n",
    "df = pd.read_csv(\"expenses.csv\")\n",
    "df = df.drop(df[df[\"Date\"] == \"Refill\"].index)\n",
    "df[\"Amount\"] = df[\"Amount\"].astype(int)\n",
    "df[\"Split\"] = df[\"Split\"].astype(float)\n",
    "df[\"Not Me\"] = df[\"Not Me\"].astype(int)\n",
    "y = df[df[\"Not Me\"] == 0]\n",
    "x = y[\"Amount\"] / y[\"Split\"]\n",
    "86000 + x.sum()"
   ]
  },
  {
   "cell_type": "markdown",
   "metadata": {},
   "source": [
    "# Month Wise"
   ]
  },
  {
   "cell_type": "code",
   "execution_count": 12,
   "metadata": {
    "execution": {
     "iopub.execute_input": "2025-03-22T08:54:02.656138Z",
     "iopub.status.busy": "2025-03-22T08:54:02.655695Z",
     "iopub.status.idle": "2025-03-22T08:54:02.758570Z",
     "shell.execute_reply": "2025-03-22T08:54:02.757848Z"
    }
   },
   "outputs": [
    {
     "data": {
      "text/plain": [
       "Date\n",
       "2     23840.000000\n",
       "3      8177.500000\n",
       "4      6557.500000\n",
       "5      9096.000000\n",
       "6      6799.500000\n",
       "7      7773.000000\n",
       "8      9305.166667\n",
       "9      8535.500000\n",
       "11    17272.500000\n",
       "Name: Amount, dtype: float64"
      ]
     },
     "execution_count": 12,
     "metadata": {},
     "output_type": "execute_result"
    }
   ],
   "source": [
    "import pandas as pd\n",
    "\n",
    "df = pd.read_csv(\"expenses.csv\")\n",
    "df = df.drop(df[df[\"Date\"] == \"Refill\"].index)\n",
    "df[\"Amount\"] = df[\"Amount\"].astype(int)\n",
    "df[\"Split\"] = df[\"Split\"].astype(float)\n",
    "df[\"Not Me\"] = df[\"Not Me\"].astype(int)\n",
    "df = df.drop(df[df[\"Not Me\"] == 1].index)\n",
    "df[\"Amount\"] = df[\"Amount\"] / df[\"Split\"]\n",
    "df[\"Date\"] = pd.to_datetime(df[\"Date\"], format=\"%Y-%m-%d\")\n",
    "s = df.groupby(df[\"Date\"].dt.month)\n",
    "s = s[\"Amount\"].sum()\n",
    "s"
   ]
  }
 ],
 "metadata": {
  "kernelspec": {
   "display_name": "torch",
   "language": "python",
   "name": "python3"
  },
  "language_info": {
   "codemirror_mode": {
    "name": "ipython",
    "version": 3
   },
   "file_extension": ".py",
   "mimetype": "text/x-python",
   "name": "python",
   "nbconvert_exporter": "python",
   "pygments_lexer": "ipython3",
   "version": "3.10.16"
  }
 },
 "nbformat": 4,
 "nbformat_minor": 2
}
